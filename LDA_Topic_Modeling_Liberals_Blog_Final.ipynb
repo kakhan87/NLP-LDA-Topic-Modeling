{
  "nbformat": 4,
  "nbformat_minor": 0,
  "metadata": {
    "kernelspec": {
      "display_name": "Python 3",
      "language": "python",
      "name": "python3"
    },
    "language_info": {
      "codemirror_mode": {
        "name": "ipython",
        "version": 3
      },
      "file_extension": ".py",
      "mimetype": "text/x-python",
      "name": "python",
      "nbconvert_exporter": "python",
      "pygments_lexer": "ipython3",
      "version": "3.7.6"
    },
    "colab": {
      "name": "Copy of LDA_Topic_Modeling_Liberals_Blog_Final.ipynb",
      "provenance": [],
      "collapsed_sections": [],
      "toc_visible": true
    }
  },
  "cells": [
    {
      "cell_type": "markdown",
      "metadata": {
        "id": "teXdt-Fh-Q-l",
        "colab_type": "text"
      },
      "source": [
        "# LDA Topic Modeling in Python - Liberals Blog\n",
        "- __Date__: June 29, 2020\n",
        "-- __Updated__: August 24, 2020\n",
        "- __Author__: Karim Khan\n",
        "- __Description__: This Notebook demonstrates LDA labelled topic analysis for 36 blogs scraped from the Liberal Party of Canada's News Website. \n",
        "\n",
        "- <strong>Reference</strong>: This work has been inspired by the following [article](https://towardsdatascience.com/evaluate-topic-model-in-python-latent-dirichlet-allocation-lda-7d57484bb5d0)."
      ]
    },
    {
      "cell_type": "code",
      "metadata": {
        "id": "vTR8_hoFKA-D",
        "colab_type": "code",
        "colab": {
          "base_uri": "https://localhost:8080/",
          "height": 54
        },
        "outputId": "3f1daa13-3707-4b0b-f2d6-2ce5da0a9499"
      },
      "source": [
        "from google.colab import drive\n",
        "drive.mount('/content/drive')"
      ],
      "execution_count": 3,
      "outputs": [
        {
          "output_type": "stream",
          "text": [
            "Drive already mounted at /content/drive; to attempt to forcibly remount, call drive.mount(\"/content/drive\", force_remount=True).\n"
          ],
          "name": "stdout"
        }
      ]
    },
    {
      "cell_type": "markdown",
      "metadata": {
        "id": "rvmBIYTf-Q-o",
        "colab_type": "text"
      },
      "source": [
        "## Install all required modules and their dependencies"
      ]
    },
    {
      "cell_type": "code",
      "metadata": {
        "id": "qAvhVhm_-Q-p",
        "colab_type": "code",
        "colab": {
          "base_uri": "https://localhost:8080/",
          "height": 1000
        },
        "outputId": "1d8c7ae2-03ab-49b9-e3e5-5cf9412966c8"
      },
      "source": [
        "!pip install requests\n",
        "!pip install beautifulsoup4\n",
        "!pip install numpy\n",
        "!pip install pandas\n",
        "!pip install scikit-learn\n",
        "!pip install nltk\n",
        "!pip install -U gensim\n",
        "!pip install matplotlib\n",
        "!pip install seaborn\n",
        "!pip install lxml\n",
        "!pip install spacy\n",
        "!pip install pyldavis\n",
        "print(\"Install completed successfully!\")"
      ],
      "execution_count": 4,
      "outputs": [
        {
          "output_type": "stream",
          "text": [
            "Requirement already satisfied: requests in /usr/local/lib/python3.6/dist-packages (2.23.0)\n",
            "Requirement already satisfied: chardet<4,>=3.0.2 in /usr/local/lib/python3.6/dist-packages (from requests) (3.0.4)\n",
            "Requirement already satisfied: idna<3,>=2.5 in /usr/local/lib/python3.6/dist-packages (from requests) (2.10)\n",
            "Requirement already satisfied: certifi>=2017.4.17 in /usr/local/lib/python3.6/dist-packages (from requests) (2020.6.20)\n",
            "Requirement already satisfied: urllib3!=1.25.0,!=1.25.1,<1.26,>=1.21.1 in /usr/local/lib/python3.6/dist-packages (from requests) (1.24.3)\n",
            "Requirement already satisfied: beautifulsoup4 in /usr/local/lib/python3.6/dist-packages (4.6.3)\n",
            "Requirement already satisfied: numpy in /usr/local/lib/python3.6/dist-packages (1.18.5)\n",
            "Requirement already satisfied: pandas in /usr/local/lib/python3.6/dist-packages (1.0.5)\n",
            "Requirement already satisfied: python-dateutil>=2.6.1 in /usr/local/lib/python3.6/dist-packages (from pandas) (2.8.1)\n",
            "Requirement already satisfied: numpy>=1.13.3 in /usr/local/lib/python3.6/dist-packages (from pandas) (1.18.5)\n",
            "Requirement already satisfied: pytz>=2017.2 in /usr/local/lib/python3.6/dist-packages (from pandas) (2018.9)\n",
            "Requirement already satisfied: six>=1.5 in /usr/local/lib/python3.6/dist-packages (from python-dateutil>=2.6.1->pandas) (1.15.0)\n",
            "Requirement already satisfied: scikit-learn in /usr/local/lib/python3.6/dist-packages (0.22.2.post1)\n",
            "Requirement already satisfied: numpy>=1.11.0 in /usr/local/lib/python3.6/dist-packages (from scikit-learn) (1.18.5)\n",
            "Requirement already satisfied: scipy>=0.17.0 in /usr/local/lib/python3.6/dist-packages (from scikit-learn) (1.4.1)\n",
            "Requirement already satisfied: joblib>=0.11 in /usr/local/lib/python3.6/dist-packages (from scikit-learn) (0.16.0)\n",
            "Requirement already satisfied: nltk in /usr/local/lib/python3.6/dist-packages (3.2.5)\n",
            "Requirement already satisfied: six in /usr/local/lib/python3.6/dist-packages (from nltk) (1.15.0)\n",
            "Collecting gensim\n",
            "\u001b[?25l  Downloading https://files.pythonhosted.org/packages/2b/e0/fa6326251692056dc880a64eb22117e03269906ba55a6864864d24ec8b4e/gensim-3.8.3-cp36-cp36m-manylinux1_x86_64.whl (24.2MB)\n",
            "\u001b[K     |████████████████████████████████| 24.2MB 44.4MB/s \n",
            "\u001b[?25hRequirement already satisfied, skipping upgrade: numpy>=1.11.3 in /usr/local/lib/python3.6/dist-packages (from gensim) (1.18.5)\n",
            "Requirement already satisfied, skipping upgrade: six>=1.5.0 in /usr/local/lib/python3.6/dist-packages (from gensim) (1.15.0)\n",
            "Requirement already satisfied, skipping upgrade: scipy>=0.18.1 in /usr/local/lib/python3.6/dist-packages (from gensim) (1.4.1)\n",
            "Requirement already satisfied, skipping upgrade: smart-open>=1.8.1 in /usr/local/lib/python3.6/dist-packages (from gensim) (2.1.0)\n",
            "Requirement already satisfied, skipping upgrade: boto in /usr/local/lib/python3.6/dist-packages (from smart-open>=1.8.1->gensim) (2.49.0)\n",
            "Requirement already satisfied, skipping upgrade: requests in /usr/local/lib/python3.6/dist-packages (from smart-open>=1.8.1->gensim) (2.23.0)\n",
            "Requirement already satisfied, skipping upgrade: boto3 in /usr/local/lib/python3.6/dist-packages (from smart-open>=1.8.1->gensim) (1.14.37)\n",
            "Requirement already satisfied, skipping upgrade: urllib3!=1.25.0,!=1.25.1,<1.26,>=1.21.1 in /usr/local/lib/python3.6/dist-packages (from requests->smart-open>=1.8.1->gensim) (1.24.3)\n",
            "Requirement already satisfied, skipping upgrade: certifi>=2017.4.17 in /usr/local/lib/python3.6/dist-packages (from requests->smart-open>=1.8.1->gensim) (2020.6.20)\n",
            "Requirement already satisfied, skipping upgrade: chardet<4,>=3.0.2 in /usr/local/lib/python3.6/dist-packages (from requests->smart-open>=1.8.1->gensim) (3.0.4)\n",
            "Requirement already satisfied, skipping upgrade: idna<3,>=2.5 in /usr/local/lib/python3.6/dist-packages (from requests->smart-open>=1.8.1->gensim) (2.10)\n",
            "Requirement already satisfied, skipping upgrade: botocore<1.18.0,>=1.17.37 in /usr/local/lib/python3.6/dist-packages (from boto3->smart-open>=1.8.1->gensim) (1.17.37)\n",
            "Requirement already satisfied, skipping upgrade: jmespath<1.0.0,>=0.7.1 in /usr/local/lib/python3.6/dist-packages (from boto3->smart-open>=1.8.1->gensim) (0.10.0)\n",
            "Requirement already satisfied, skipping upgrade: s3transfer<0.4.0,>=0.3.0 in /usr/local/lib/python3.6/dist-packages (from boto3->smart-open>=1.8.1->gensim) (0.3.3)\n",
            "Requirement already satisfied, skipping upgrade: docutils<0.16,>=0.10 in /usr/local/lib/python3.6/dist-packages (from botocore<1.18.0,>=1.17.37->boto3->smart-open>=1.8.1->gensim) (0.15.2)\n",
            "Requirement already satisfied, skipping upgrade: python-dateutil<3.0.0,>=2.1 in /usr/local/lib/python3.6/dist-packages (from botocore<1.18.0,>=1.17.37->boto3->smart-open>=1.8.1->gensim) (2.8.1)\n",
            "Installing collected packages: gensim\n",
            "  Found existing installation: gensim 3.6.0\n",
            "    Uninstalling gensim-3.6.0:\n",
            "      Successfully uninstalled gensim-3.6.0\n",
            "Successfully installed gensim-3.8.3\n",
            "Requirement already satisfied: matplotlib in /usr/local/lib/python3.6/dist-packages (3.2.2)\n",
            "Requirement already satisfied: python-dateutil>=2.1 in /usr/local/lib/python3.6/dist-packages (from matplotlib) (2.8.1)\n",
            "Requirement already satisfied: numpy>=1.11 in /usr/local/lib/python3.6/dist-packages (from matplotlib) (1.18.5)\n",
            "Requirement already satisfied: kiwisolver>=1.0.1 in /usr/local/lib/python3.6/dist-packages (from matplotlib) (1.2.0)\n",
            "Requirement already satisfied: cycler>=0.10 in /usr/local/lib/python3.6/dist-packages (from matplotlib) (0.10.0)\n",
            "Requirement already satisfied: pyparsing!=2.0.4,!=2.1.2,!=2.1.6,>=2.0.1 in /usr/local/lib/python3.6/dist-packages (from matplotlib) (2.4.7)\n",
            "Requirement already satisfied: six>=1.5 in /usr/local/lib/python3.6/dist-packages (from python-dateutil>=2.1->matplotlib) (1.15.0)\n",
            "Requirement already satisfied: seaborn in /usr/local/lib/python3.6/dist-packages (0.10.1)\n",
            "Requirement already satisfied: scipy>=1.0.1 in /usr/local/lib/python3.6/dist-packages (from seaborn) (1.4.1)\n",
            "Requirement already satisfied: matplotlib>=2.1.2 in /usr/local/lib/python3.6/dist-packages (from seaborn) (3.2.2)\n",
            "Requirement already satisfied: numpy>=1.13.3 in /usr/local/lib/python3.6/dist-packages (from seaborn) (1.18.5)\n",
            "Requirement already satisfied: pandas>=0.22.0 in /usr/local/lib/python3.6/dist-packages (from seaborn) (1.0.5)\n",
            "Requirement already satisfied: pyparsing!=2.0.4,!=2.1.2,!=2.1.6,>=2.0.1 in /usr/local/lib/python3.6/dist-packages (from matplotlib>=2.1.2->seaborn) (2.4.7)\n",
            "Requirement already satisfied: python-dateutil>=2.1 in /usr/local/lib/python3.6/dist-packages (from matplotlib>=2.1.2->seaborn) (2.8.1)\n",
            "Requirement already satisfied: cycler>=0.10 in /usr/local/lib/python3.6/dist-packages (from matplotlib>=2.1.2->seaborn) (0.10.0)\n",
            "Requirement already satisfied: kiwisolver>=1.0.1 in /usr/local/lib/python3.6/dist-packages (from matplotlib>=2.1.2->seaborn) (1.2.0)\n",
            "Requirement already satisfied: pytz>=2017.2 in /usr/local/lib/python3.6/dist-packages (from pandas>=0.22.0->seaborn) (2018.9)\n",
            "Requirement already satisfied: six>=1.5 in /usr/local/lib/python3.6/dist-packages (from python-dateutil>=2.1->matplotlib>=2.1.2->seaborn) (1.15.0)\n",
            "Requirement already satisfied: lxml in /usr/local/lib/python3.6/dist-packages (4.2.6)\n",
            "Requirement already satisfied: spacy in /usr/local/lib/python3.6/dist-packages (2.2.4)\n",
            "Requirement already satisfied: requests<3.0.0,>=2.13.0 in /usr/local/lib/python3.6/dist-packages (from spacy) (2.23.0)\n",
            "Requirement already satisfied: wasabi<1.1.0,>=0.4.0 in /usr/local/lib/python3.6/dist-packages (from spacy) (0.7.1)\n",
            "Requirement already satisfied: catalogue<1.1.0,>=0.0.7 in /usr/local/lib/python3.6/dist-packages (from spacy) (1.0.0)\n",
            "Requirement already satisfied: setuptools in /usr/local/lib/python3.6/dist-packages (from spacy) (49.2.0)\n",
            "Requirement already satisfied: numpy>=1.15.0 in /usr/local/lib/python3.6/dist-packages (from spacy) (1.18.5)\n",
            "Requirement already satisfied: blis<0.5.0,>=0.4.0 in /usr/local/lib/python3.6/dist-packages (from spacy) (0.4.1)\n",
            "Requirement already satisfied: murmurhash<1.1.0,>=0.28.0 in /usr/local/lib/python3.6/dist-packages (from spacy) (1.0.2)\n",
            "Requirement already satisfied: tqdm<5.0.0,>=4.38.0 in /usr/local/lib/python3.6/dist-packages (from spacy) (4.41.1)\n",
            "Requirement already satisfied: cymem<2.1.0,>=2.0.2 in /usr/local/lib/python3.6/dist-packages (from spacy) (2.0.3)\n",
            "Requirement already satisfied: plac<1.2.0,>=0.9.6 in /usr/local/lib/python3.6/dist-packages (from spacy) (1.1.3)\n",
            "Requirement already satisfied: preshed<3.1.0,>=3.0.2 in /usr/local/lib/python3.6/dist-packages (from spacy) (3.0.2)\n",
            "Requirement already satisfied: srsly<1.1.0,>=1.0.2 in /usr/local/lib/python3.6/dist-packages (from spacy) (1.0.2)\n",
            "Requirement already satisfied: thinc==7.4.0 in /usr/local/lib/python3.6/dist-packages (from spacy) (7.4.0)\n",
            "Requirement already satisfied: idna<3,>=2.5 in /usr/local/lib/python3.6/dist-packages (from requests<3.0.0,>=2.13.0->spacy) (2.10)\n",
            "Requirement already satisfied: certifi>=2017.4.17 in /usr/local/lib/python3.6/dist-packages (from requests<3.0.0,>=2.13.0->spacy) (2020.6.20)\n",
            "Requirement already satisfied: chardet<4,>=3.0.2 in /usr/local/lib/python3.6/dist-packages (from requests<3.0.0,>=2.13.0->spacy) (3.0.4)\n",
            "Requirement already satisfied: urllib3!=1.25.0,!=1.25.1,<1.26,>=1.21.1 in /usr/local/lib/python3.6/dist-packages (from requests<3.0.0,>=2.13.0->spacy) (1.24.3)\n",
            "Requirement already satisfied: importlib-metadata>=0.20; python_version < \"3.8\" in /usr/local/lib/python3.6/dist-packages (from catalogue<1.1.0,>=0.0.7->spacy) (1.7.0)\n",
            "Requirement already satisfied: zipp>=0.5 in /usr/local/lib/python3.6/dist-packages (from importlib-metadata>=0.20; python_version < \"3.8\"->catalogue<1.1.0,>=0.0.7->spacy) (3.1.0)\n",
            "Collecting pyldavis\n",
            "\u001b[?25l  Downloading https://files.pythonhosted.org/packages/a5/3a/af82e070a8a96e13217c8f362f9a73e82d61ac8fff3a2561946a97f96266/pyLDAvis-2.1.2.tar.gz (1.6MB)\n",
            "\u001b[K     |████████████████████████████████| 1.6MB 4.4MB/s \n",
            "\u001b[?25hRequirement already satisfied: wheel>=0.23.0 in /usr/local/lib/python3.6/dist-packages (from pyldavis) (0.34.2)\n",
            "Requirement already satisfied: numpy>=1.9.2 in /usr/local/lib/python3.6/dist-packages (from pyldavis) (1.18.5)\n",
            "Requirement already satisfied: scipy>=0.18.0 in /usr/local/lib/python3.6/dist-packages (from pyldavis) (1.4.1)\n",
            "Requirement already satisfied: pandas>=0.17.0 in /usr/local/lib/python3.6/dist-packages (from pyldavis) (1.0.5)\n",
            "Requirement already satisfied: joblib>=0.8.4 in /usr/local/lib/python3.6/dist-packages (from pyldavis) (0.16.0)\n",
            "Requirement already satisfied: jinja2>=2.7.2 in /usr/local/lib/python3.6/dist-packages (from pyldavis) (2.11.2)\n",
            "Requirement already satisfied: numexpr in /usr/local/lib/python3.6/dist-packages (from pyldavis) (2.7.1)\n",
            "Requirement already satisfied: pytest in /usr/local/lib/python3.6/dist-packages (from pyldavis) (3.6.4)\n",
            "Requirement already satisfied: future in /usr/local/lib/python3.6/dist-packages (from pyldavis) (0.16.0)\n",
            "Collecting funcy\n",
            "\u001b[?25l  Downloading https://files.pythonhosted.org/packages/ce/4b/6ffa76544e46614123de31574ad95758c421aae391a1764921b8a81e1eae/funcy-1.14.tar.gz (548kB)\n",
            "\u001b[K     |████████████████████████████████| 552kB 19.6MB/s \n",
            "\u001b[?25hRequirement already satisfied: python-dateutil>=2.6.1 in /usr/local/lib/python3.6/dist-packages (from pandas>=0.17.0->pyldavis) (2.8.1)\n",
            "Requirement already satisfied: pytz>=2017.2 in /usr/local/lib/python3.6/dist-packages (from pandas>=0.17.0->pyldavis) (2018.9)\n",
            "Requirement already satisfied: MarkupSafe>=0.23 in /usr/local/lib/python3.6/dist-packages (from jinja2>=2.7.2->pyldavis) (1.1.1)\n",
            "Requirement already satisfied: six>=1.10.0 in /usr/local/lib/python3.6/dist-packages (from pytest->pyldavis) (1.15.0)\n",
            "Requirement already satisfied: atomicwrites>=1.0 in /usr/local/lib/python3.6/dist-packages (from pytest->pyldavis) (1.4.0)\n",
            "Requirement already satisfied: attrs>=17.4.0 in /usr/local/lib/python3.6/dist-packages (from pytest->pyldavis) (19.3.0)\n",
            "Requirement already satisfied: more-itertools>=4.0.0 in /usr/local/lib/python3.6/dist-packages (from pytest->pyldavis) (8.4.0)\n",
            "Requirement already satisfied: pluggy<0.8,>=0.5 in /usr/local/lib/python3.6/dist-packages (from pytest->pyldavis) (0.7.1)\n",
            "Requirement already satisfied: py>=1.5.0 in /usr/local/lib/python3.6/dist-packages (from pytest->pyldavis) (1.9.0)\n",
            "Requirement already satisfied: setuptools in /usr/local/lib/python3.6/dist-packages (from pytest->pyldavis) (49.2.0)\n",
            "Building wheels for collected packages: pyldavis, funcy\n",
            "  Building wheel for pyldavis (setup.py) ... \u001b[?25l\u001b[?25hdone\n",
            "  Created wheel for pyldavis: filename=pyLDAvis-2.1.2-py2.py3-none-any.whl size=97711 sha256=41b6f55b6a987a94fa5a074ac1ba1e5be2611932e9e1978b2e1568ce82518e48\n",
            "  Stored in directory: /root/.cache/pip/wheels/98/71/24/513a99e58bb6b8465bae4d2d5e9dba8f0bef8179e3051ac414\n",
            "  Building wheel for funcy (setup.py) ... \u001b[?25l\u001b[?25hdone\n",
            "  Created wheel for funcy: filename=funcy-1.14-py2.py3-none-any.whl size=32042 sha256=4ac3d5698a5faabbd878a5f486e1775a6165c9e9c45c40160142f41977bb528f\n",
            "  Stored in directory: /root/.cache/pip/wheels/20/5a/d8/1d875df03deae6f178dfdf70238cca33f948ef8a6f5209f2eb\n",
            "Successfully built pyldavis funcy\n",
            "Installing collected packages: funcy, pyldavis\n",
            "Successfully installed funcy-1.14 pyldavis-2.1.2\n",
            "Install completed successfully!\n"
          ],
          "name": "stdout"
        }
      ]
    },
    {
      "cell_type": "markdown",
      "metadata": {
        "id": "ZvgsLHyi-Q-4",
        "colab_type": "text"
      },
      "source": [
        "## Import LDA Topic Modeling Libraries"
      ]
    },
    {
      "cell_type": "code",
      "metadata": {
        "id": "l1aXuT41-Q-5",
        "colab_type": "code",
        "colab": {
          "base_uri": "https://localhost:8080/",
          "height": 122
        },
        "outputId": "ab526894-8a22-4fa3-eefe-dcae3b460ba3"
      },
      "source": [
        "import pandas as pd #Python's Data structure library\n",
        "import re #regular expressions, used in text cleaning\n",
        "import string\n",
        "import seaborn as sns #plotting library\n",
        "import matplotlib #plotting library\n",
        "import matplotlib.pyplot as plt #plotting library\n",
        "\n",
        "\n",
        "import gensim #Scalable statistical semantics\n",
        "              #Analyze plain-text documents for semantic structure\n",
        "              #Retrieve semantically similar documents\n",
        "\n",
        "from gensim.utils import simple_preprocess\n",
        "import gensim.corpora as corpora\n",
        "from gensim.models import CoherenceModel\n",
        "\n",
        "import pyLDAvis #Python library for interactive topic model visualization\n",
        "import pyLDAvis.gensim\n",
        "\n",
        "import spacy #library for advanced Natural Language Processing in Python\n",
        "\n",
        "#uncomment to download module for first-time use \n",
        "# !python3 -m spacy download en_core_web_sm \n",
        "\n",
        "import en_core_web_sm\n",
        "\n",
        "# NLTK Stop words\n",
        "import nltk\n",
        "nltk.download('stopwords')\n",
        "from nltk.corpus import stopwords\n",
        "\n",
        "import numpy as np #Python's scientific computing library (Arrays and Matrices)\n",
        "\n",
        "import tqdm #tqdm means \"progress\" in Arabic (taqadum, تقدّم) \n",
        "            #Instantly make your loops show a smart progress meter - \n",
        "            #just wrap any iterable with tqdm(iterable), and you're done! \n",
        "\n",
        "from pprint import pprint # Print high-scoring keywords in modeled topics\n",
        "\n",
        "print(\"Libraries imported successfully!\")"
      ],
      "execution_count": 5,
      "outputs": [
        {
          "output_type": "stream",
          "text": [
            "/usr/local/lib/python3.6/dist-packages/statsmodels/tools/_testing.py:19: FutureWarning: pandas.util.testing is deprecated. Use the functions in the public API at pandas.testing instead.\n",
            "  import pandas.util.testing as tm\n"
          ],
          "name": "stderr"
        },
        {
          "output_type": "stream",
          "text": [
            "[nltk_data] Downloading package stopwords to /root/nltk_data...\n",
            "[nltk_data]   Unzipping corpora/stopwords.zip.\n",
            "Libraries imported successfully!\n"
          ],
          "name": "stdout"
        }
      ]
    },
    {
      "cell_type": "markdown",
      "metadata": {
        "id": "mglE3UdbAcQV",
        "colab_type": "text"
      },
      "source": [
        "## Check latest gensim is successfully installed (3.8.3)\n",
        "### This is important for Topic model iterations later on."
      ]
    },
    {
      "cell_type": "code",
      "metadata": {
        "id": "3WAJTc0w5sQj",
        "colab_type": "code",
        "colab": {
          "base_uri": "https://localhost:8080/",
          "height": 35
        },
        "outputId": "f5dc001e-1e30-4003-eb0f-7b5e7935e582"
      },
      "source": [
        "gensim.__version__"
      ],
      "execution_count": 6,
      "outputs": [
        {
          "output_type": "execute_result",
          "data": {
            "application/vnd.google.colaboratory.intrinsic+json": {
              "type": "string"
            },
            "text/plain": [
              "'3.8.3'"
            ]
          },
          "metadata": {
            "tags": []
          },
          "execution_count": 6
        }
      ]
    },
    {
      "cell_type": "markdown",
      "metadata": {
        "id": "SJPkx1RV-Q_G",
        "colab_type": "text"
      },
      "source": [
        "## Pick the latest 40 blogs from the Scraper and read into a CSV"
      ]
    },
    {
      "cell_type": "code",
      "metadata": {
        "id": "OxUlaCGK-Q_L",
        "colab_type": "code",
        "colab": {
          "base_uri": "https://localhost:8080/",
          "height": 357
        },
        "outputId": "f25b6b7d-2cb9-4ac1-8b6d-6d9fba023760"
      },
      "source": [
        "# Load the latest 40 blogs from the Liberals website\n",
        "df = pd.read_csv('/content/drive/My Drive/Colab Notebooks/Liberals_Num_Posts.csv')\n",
        "df.head()"
      ],
      "execution_count": 8,
      "outputs": [
        {
          "output_type": "execute_result",
          "data": {
            "text/html": [
              "<div>\n",
              "<style scoped>\n",
              "    .dataframe tbody tr th:only-of-type {\n",
              "        vertical-align: middle;\n",
              "    }\n",
              "\n",
              "    .dataframe tbody tr th {\n",
              "        vertical-align: top;\n",
              "    }\n",
              "\n",
              "    .dataframe thead th {\n",
              "        text-align: right;\n",
              "    }\n",
              "</style>\n",
              "<table border=\"1\" class=\"dataframe\">\n",
              "  <thead>\n",
              "    <tr style=\"text-align: right;\">\n",
              "      <th></th>\n",
              "      <th>Blog No.</th>\n",
              "      <th>Title</th>\n",
              "      <th>Subtitle</th>\n",
              "      <th>Date</th>\n",
              "      <th>Link</th>\n",
              "      <th>Content</th>\n",
              "    </tr>\n",
              "  </thead>\n",
              "  <tbody>\n",
              "    <tr>\n",
              "      <th>0</th>\n",
              "      <td>1</td>\n",
              "      <td>Snapshot: Supporting Canadians and stabilizing...</td>\n",
              "      <td>Throughout this pandemic, Justin Trudeau and t...</td>\n",
              "      <td>\\n\\t\\t\\t\\t\\t\\t\\t\\tJuly 8, 2020\\t\\t\\t\\t\\t\\t\\t\\t</td>\n",
              "      <td>https://liberal.ca/fiscal-snapshot/</td>\n",
              "      <td>Snapshot: Supporting Canadians and stabilizing...</td>\n",
              "    </tr>\n",
              "    <tr>\n",
              "      <th>1</th>\n",
              "      <td>2</td>\n",
              "      <td>Justin Trudeau’s address to Parliament on anti...</td>\n",
              "      <td>We must stand together against racism, discrim...</td>\n",
              "      <td>\\n\\t\\t\\t\\t\\t\\t\\t\\tJune 2, 2020\\t\\t\\t\\t\\t\\t\\t\\t</td>\n",
              "      <td>https://liberal.ca/justin-trudeaus-address-to-...</td>\n",
              "      <td>Justin Trudeau’s address to Parliament on anti...</td>\n",
              "    </tr>\n",
              "    <tr>\n",
              "      <th>2</th>\n",
              "      <td>3</td>\n",
              "      <td>COVID-19 Response: More support for Canadian s...</td>\n",
              "      <td>No Canadian should have to choose between putt...</td>\n",
              "      <td>\\n\\t\\t\\t\\t\\t\\t\\t\\tMay 12, 2020\\t\\t\\t\\t\\t\\t\\t\\t</td>\n",
              "      <td>https://liberal.ca/covid-19-response-more-supp...</td>\n",
              "      <td>COVID-19 Response: More support for Canadian s...</td>\n",
              "    </tr>\n",
              "    <tr>\n",
              "      <th>3</th>\n",
              "      <td>4</td>\n",
              "      <td>The Latest</td>\n",
              "      <td>Here’s a quick breakdown some of the steps our...</td>\n",
              "      <td>\\n\\t\\t\\t\\t\\t\\t\\t\\tApril 24, 2020\\t\\t\\t\\t\\t\\t\\t\\t</td>\n",
              "      <td>https://liberal.ca/the-latest/</td>\n",
              "      <td>The Latest\\t\\t\\t\\t\\t\\t\\t\\t\\t\\n\\n\\n\\t\\t\\t\\t\\t\\t...</td>\n",
              "    </tr>\n",
              "    <tr>\n",
              "      <th>4</th>\n",
              "      <td>5</td>\n",
              "      <td>Survey: Your Movement 2020</td>\n",
              "      <td>We want to hear from you: What tools do you ne...</td>\n",
              "      <td>\\n\\t\\t\\t\\t\\t\\t\\t\\tApril 23, 2020\\t\\t\\t\\t\\t\\t\\t\\t</td>\n",
              "      <td>https://liberal.ca/survey-your-movement-2020/</td>\n",
              "      <td>Survey: Your Movement 2020\\t\\t\\t\\t\\t\\t\\t\\t\\t\\n...</td>\n",
              "    </tr>\n",
              "  </tbody>\n",
              "</table>\n",
              "</div>"
            ],
            "text/plain": [
              "   Blog No.  ...                                            Content\n",
              "0         1  ...  Snapshot: Supporting Canadians and stabilizing...\n",
              "1         2  ...  Justin Trudeau’s address to Parliament on anti...\n",
              "2         3  ...  COVID-19 Response: More support for Canadian s...\n",
              "3         4  ...  The Latest\\t\\t\\t\\t\\t\\t\\t\\t\\t\\n\\n\\n\\t\\t\\t\\t\\t\\t...\n",
              "4         5  ...  Survey: Your Movement 2020\\t\\t\\t\\t\\t\\t\\t\\t\\t\\n...\n",
              "\n",
              "[5 rows x 6 columns]"
            ]
          },
          "metadata": {
            "tags": []
          },
          "execution_count": 8
        }
      ]
    },
    {
      "cell_type": "markdown",
      "metadata": {
        "id": "dgn8UT_S-Q_S",
        "colab_type": "text"
      },
      "source": [
        "# LDA Topic Modeling\n",
        "## Data Cleaning\n",
        "\n",
        "- We will only include the detailed content of the articles in our analysis, ruling out all other parameters.\n",
        "- Create new dataframe only including the content."
      ]
    },
    {
      "cell_type": "code",
      "metadata": {
        "id": "toPF7Hrw-Q_T",
        "colab_type": "code",
        "colab": {
          "base_uri": "https://localhost:8080/",
          "height": 221
        },
        "outputId": "4f888670-0389-439a-f5c1-a143a1242242"
      },
      "source": [
        "df_content = df[[' Content']]\n",
        "print(\"The total number of scraped articles: \", len(df))\n",
        "df_content.head()"
      ],
      "execution_count": 9,
      "outputs": [
        {
          "output_type": "stream",
          "text": [
            "The total number of scraped articles:  40\n"
          ],
          "name": "stdout"
        },
        {
          "output_type": "execute_result",
          "data": {
            "text/html": [
              "<div>\n",
              "<style scoped>\n",
              "    .dataframe tbody tr th:only-of-type {\n",
              "        vertical-align: middle;\n",
              "    }\n",
              "\n",
              "    .dataframe tbody tr th {\n",
              "        vertical-align: top;\n",
              "    }\n",
              "\n",
              "    .dataframe thead th {\n",
              "        text-align: right;\n",
              "    }\n",
              "</style>\n",
              "<table border=\"1\" class=\"dataframe\">\n",
              "  <thead>\n",
              "    <tr style=\"text-align: right;\">\n",
              "      <th></th>\n",
              "      <th>Content</th>\n",
              "    </tr>\n",
              "  </thead>\n",
              "  <tbody>\n",
              "    <tr>\n",
              "      <th>0</th>\n",
              "      <td>Snapshot: Supporting Canadians and stabilizing...</td>\n",
              "    </tr>\n",
              "    <tr>\n",
              "      <th>1</th>\n",
              "      <td>Justin Trudeau’s address to Parliament on anti...</td>\n",
              "    </tr>\n",
              "    <tr>\n",
              "      <th>2</th>\n",
              "      <td>COVID-19 Response: More support for Canadian s...</td>\n",
              "    </tr>\n",
              "    <tr>\n",
              "      <th>3</th>\n",
              "      <td>The Latest\\t\\t\\t\\t\\t\\t\\t\\t\\t\\n\\n\\n\\t\\t\\t\\t\\t\\t...</td>\n",
              "    </tr>\n",
              "    <tr>\n",
              "      <th>4</th>\n",
              "      <td>Survey: Your Movement 2020\\t\\t\\t\\t\\t\\t\\t\\t\\t\\n...</td>\n",
              "    </tr>\n",
              "  </tbody>\n",
              "</table>\n",
              "</div>"
            ],
            "text/plain": [
              "                                             Content\n",
              "0  Snapshot: Supporting Canadians and stabilizing...\n",
              "1  Justin Trudeau’s address to Parliament on anti...\n",
              "2  COVID-19 Response: More support for Canadian s...\n",
              "3  The Latest\\t\\t\\t\\t\\t\\t\\t\\t\\t\\n\\n\\n\\t\\t\\t\\t\\t\\t...\n",
              "4  Survey: Your Movement 2020\\t\\t\\t\\t\\t\\t\\t\\t\\t\\n..."
            ]
          },
          "metadata": {
            "tags": []
          },
          "execution_count": 9
        }
      ]
    },
    {
      "cell_type": "markdown",
      "metadata": {
        "id": "Psmt6LYH-Q_a",
        "colab_type": "text"
      },
      "source": [
        "## Drop rows returning no content\n",
        "\n",
        "Some of the scraped blogs have no content due to inconsistent HTML structure between them. To handle those, an exception is added to the Scraper function to return the content of the main HTML tag containing the corpus, which is consistent in the majority of the blogs posted on the Liberal Party's website. However, a few blogs containing public reach-out content (e.g. a Questionnaire, an Internship opportunity, Invitation to participate in a Public forum, etc.) have different HTML tags. As such, the Scraper function is coded to return an exception named \"NaN\" to flag those blogs. With that said, the links to those blogs are available in the original dataset if the user wishes to inspect them."
      ]
    },
    {
      "cell_type": "code",
      "metadata": {
        "id": "Kybalpmj-Q_b",
        "colab_type": "code",
        "colab": {
          "base_uri": "https://localhost:8080/",
          "height": 326
        },
        "outputId": "1871cfcd-5ee1-4871-d3c3-8854157e2836"
      },
      "source": [
        "df_content.dropna(inplace=True)\n",
        "df_content = df_content.reset_index(drop=True) # drop=True option avoids adding new index column with old index values\n",
        "print(\"The number of actual articles with content: \", len(df_content))\n",
        "df_content.head()"
      ],
      "execution_count": 10,
      "outputs": [
        {
          "output_type": "stream",
          "text": [
            "The number of actual articles with content:  38\n"
          ],
          "name": "stdout"
        },
        {
          "output_type": "stream",
          "text": [
            "/usr/local/lib/python3.6/dist-packages/ipykernel_launcher.py:1: SettingWithCopyWarning: \n",
            "A value is trying to be set on a copy of a slice from a DataFrame\n",
            "\n",
            "See the caveats in the documentation: https://pandas.pydata.org/pandas-docs/stable/user_guide/indexing.html#returning-a-view-versus-a-copy\n",
            "  \"\"\"Entry point for launching an IPython kernel.\n"
          ],
          "name": "stderr"
        },
        {
          "output_type": "execute_result",
          "data": {
            "text/html": [
              "<div>\n",
              "<style scoped>\n",
              "    .dataframe tbody tr th:only-of-type {\n",
              "        vertical-align: middle;\n",
              "    }\n",
              "\n",
              "    .dataframe tbody tr th {\n",
              "        vertical-align: top;\n",
              "    }\n",
              "\n",
              "    .dataframe thead th {\n",
              "        text-align: right;\n",
              "    }\n",
              "</style>\n",
              "<table border=\"1\" class=\"dataframe\">\n",
              "  <thead>\n",
              "    <tr style=\"text-align: right;\">\n",
              "      <th></th>\n",
              "      <th>Content</th>\n",
              "    </tr>\n",
              "  </thead>\n",
              "  <tbody>\n",
              "    <tr>\n",
              "      <th>0</th>\n",
              "      <td>Snapshot: Supporting Canadians and stabilizing...</td>\n",
              "    </tr>\n",
              "    <tr>\n",
              "      <th>1</th>\n",
              "      <td>Justin Trudeau’s address to Parliament on anti...</td>\n",
              "    </tr>\n",
              "    <tr>\n",
              "      <th>2</th>\n",
              "      <td>COVID-19 Response: More support for Canadian s...</td>\n",
              "    </tr>\n",
              "    <tr>\n",
              "      <th>3</th>\n",
              "      <td>The Latest\\t\\t\\t\\t\\t\\t\\t\\t\\t\\n\\n\\n\\t\\t\\t\\t\\t\\t...</td>\n",
              "    </tr>\n",
              "    <tr>\n",
              "      <th>4</th>\n",
              "      <td>Survey: Your Movement 2020\\t\\t\\t\\t\\t\\t\\t\\t\\t\\n...</td>\n",
              "    </tr>\n",
              "  </tbody>\n",
              "</table>\n",
              "</div>"
            ],
            "text/plain": [
              "                                             Content\n",
              "0  Snapshot: Supporting Canadians and stabilizing...\n",
              "1  Justin Trudeau’s address to Parliament on anti...\n",
              "2  COVID-19 Response: More support for Canadian s...\n",
              "3  The Latest\\t\\t\\t\\t\\t\\t\\t\\t\\t\\n\\n\\n\\t\\t\\t\\t\\t\\t...\n",
              "4  Survey: Your Movement 2020\\t\\t\\t\\t\\t\\t\\t\\t\\t\\n..."
            ]
          },
          "metadata": {
            "tags": []
          },
          "execution_count": 10
        }
      ]
    },
    {
      "cell_type": "markdown",
      "metadata": {
        "id": "BCKK3Mbe-Q_f",
        "colab_type": "text"
      },
      "source": [
        "## Evaluate what needs to be cleaned\n",
        "The following code shows sample content for the first blog. This is applied to the entire corpus and is an integral step in the text cleaning stage, as it helps detect all anomalies (which will be presented in the following code blocks) that need to be removed prior the topic modeling step.  "
      ]
    },
    {
      "cell_type": "code",
      "metadata": {
        "id": "fOmfEEAX-Q_h",
        "colab_type": "code",
        "colab": {
          "base_uri": "https://localhost:8080/",
          "height": 71
        },
        "outputId": "4aed0dd9-567d-44fc-985e-973a86c546b6"
      },
      "source": [
        "df_content.values[0]"
      ],
      "execution_count": 11,
      "outputs": [
        {
          "output_type": "execute_result",
          "data": {
            "text/plain": [
              "array(['Snapshot: Supporting Canadians and stabilizing our economy\\t\\t\\t\\t\\t\\t\\t\\t\\t\\n\\n\\n\\t\\t\\t\\t\\t\\t\\t\\tJuly 8, 2020\\t\\t\\t\\t\\t\\t\\t\\t\\n\\n\\n\\t\\t\\t\\t\\t\\t\\t\\t\\t\\tShare\\t\\t\\t\\t\\t\\t\\t\\t\\t\\n\\n\\n\\n\\n\\n\\n\\nThroughout this pandemic, Justin Trudeau and the Liberal government have been working hard to make sure you and your family are safe and supported during this challenging time.\\nThe fiscal snapshot presented by Bill Morneau today highlights how Justin Trudeau and the Liberal government have been able to stabilize the economy and keep Canadians supported. \\nThis support is the largest peacetime investment in Canada’s history, and has allowed millions of Canadian families and businesses to keep receiving income during a time of uncertainty.\\nHere are few highlights of how Canadian families, workers, and small businesses are being supported, by the numbers:\\n\\nMore than 8.16 million people have received support from the Canada Emergency Response Benefit, providing $2,000 a month to Canadians who have lost their income due to COVID-19.\\n\\n\\n\\n3.7 million Canadian families received a special one-time $300 top-up of the Canada Child Benefit for each child (and the Canada Child Benefit is increasing again this month to help with the high costs of raising kids).\\n\\n\\n3 million employees have been supported by the Canada Emergency Wage Subsidy, by helping them stay in the workforce or return to work.\\n\\n\\n12 million low and modest income individuals and families received a special one-time payment through the GST credit. On average, single adults received $400 in additional benefits, and couples almost $600.\\n\\n\\nMore than 600,000 students have received the Canada Emergency Student Benefit, providing $1,250 per month for eligible students (and $2,000 per month to those with dependents or a disability).\\n\\n\\n6.7 million seniors are receiving a one-time tax-free payment of $300, and those who are also eligible for the GIS are also receiving an additional $200.\\n\\n\\nMore than 688,000 applicants have been approved for the Canada Emergency Business Account, to help ensure small businesses can keep our economy strong through this difficult time.\\n\\nLearn more on our blog about the steps the Liberal government is taking to keep Canadians safe, healthy, and supported throughout the COVID-19 pandemic.\\nThe health and safety of Canadians is our top priority. As our economy gradually and safely reopens, our Liberal government will continue to ensure that Canadians have the support they need.\\nWe’ll get through this together — and as Justin Trudeau has said, you can be sure that our country will come roaring back.\\nFor the latest details on stopping the spread of COVID-19 and Canada’s whole-of-government response, you can also check out Canada.ca/Coronavirus.\\nFAQs: Keeping Canadians supported through the impacts of COVID-19\\nThank you for your support and wishing you and your loved ones all the best,\\n– Liberal Party of Canada\\n\\n[  NOTE: All figures updated as of early July, 2020. The Government of Canada’s Fiscal Snapshot was presented on July 8, 2020 ]'],\n",
              "      dtype=object)"
            ]
          },
          "metadata": {
            "tags": []
          },
          "execution_count": 11
        }
      ]
    },
    {
      "cell_type": "markdown",
      "metadata": {
        "id": "Q4dyiAii-Q_n",
        "colab_type": "text"
      },
      "source": [
        "## Use Regular Expressions to apply rounds of text cleaning"
      ]
    },
    {
      "cell_type": "code",
      "metadata": {
        "id": "mDZWCOJ6-Q_o",
        "colab_type": "code",
        "colab": {
          "base_uri": "https://localhost:8080/",
          "height": 119
        },
        "outputId": "71bb5b32-f7db-4ef5-dd00-510bdc26ad94"
      },
      "source": [
        "# Remove punctuation\n",
        "df_content['Content_processed'] = df_content[' Content'].map(lambda x: re.sub('[,!?]', '', x))\n",
        "\n",
        "# Convert the text to lowercase\n",
        "df_content['Content_processed'] = df_content['Content_processed'].map(lambda x: x.lower())\n",
        "\n",
        "# Print out the first rows of papers\n",
        "df_content['Content_processed'].head()"
      ],
      "execution_count": 12,
      "outputs": [
        {
          "output_type": "execute_result",
          "data": {
            "text/plain": [
              "0    snapshot: supporting canadians and stabilizing...\n",
              "1    justin trudeau’s address to parliament on anti...\n",
              "2    covid-19 response: more support for canadian s...\n",
              "3    the latest\\t\\t\\t\\t\\t\\t\\t\\t\\t\\n\\n\\n\\t\\t\\t\\t\\t\\t...\n",
              "4    survey: your movement 2020\\t\\t\\t\\t\\t\\t\\t\\t\\t\\n...\n",
              "Name: Content_processed, dtype: object"
            ]
          },
          "metadata": {
            "tags": []
          },
          "execution_count": 12
        }
      ]
    },
    {
      "cell_type": "markdown",
      "metadata": {
        "id": "NmucTJFA-Q_w",
        "colab_type": "text"
      },
      "source": [
        "## Tokenize words and further clean-up text\n",
        "Let’s tokenize each sentence into a list of words, removing punctuations and unnecessary characters altogether."
      ]
    },
    {
      "cell_type": "code",
      "metadata": {
        "id": "k803TJr3-Q_x",
        "colab_type": "code",
        "colab": {
          "base_uri": "https://localhost:8080/",
          "height": 54
        },
        "outputId": "d07a9596-e0a0-4dd1-f7bf-1256d3c83081"
      },
      "source": [
        "def sent_to_words(sentences):\n",
        "    for sentence in sentences:\n",
        "        yield(gensim.utils.simple_preprocess(str(sentence), deacc=True))  # deacc=True removes punctuations\n",
        "\n",
        "data = df_content.Content_processed.values.tolist()\n",
        "data_words = list(sent_to_words(data))\n",
        "\n",
        "print(data_words[:1]) #Print words from the first blog"
      ],
      "execution_count": 13,
      "outputs": [
        {
          "output_type": "stream",
          "text": [
            "[['snapshot', 'supporting', 'canadians', 'and', 'stabilizing', 'our', 'economy', 'july', 'share', 'throughout', 'this', 'pandemic', 'justin', 'trudeau', 'and', 'the', 'liberal', 'government', 'have', 'been', 'working', 'hard', 'to', 'make', 'sure', 'you', 'and', 'your', 'family', 'are', 'safe', 'and', 'supported', 'during', 'this', 'challenging', 'time', 'the', 'fiscal', 'snapshot', 'presented', 'by', 'bill', 'morneau', 'today', 'highlights', 'how', 'justin', 'trudeau', 'and', 'the', 'liberal', 'government', 'have', 'been', 'able', 'to', 'stabilize', 'the', 'economy', 'and', 'keep', 'canadians', 'supported', 'this', 'support', 'is', 'the', 'largest', 'peacetime', 'investment', 'in', 'canada', 'history', 'and', 'has', 'allowed', 'millions', 'of', 'canadian', 'families', 'and', 'businesses', 'to', 'keep', 'receiving', 'income', 'during', 'time', 'of', 'uncertainty', 'here', 'are', 'few', 'highlights', 'of', 'how', 'canadian', 'families', 'workers', 'and', 'small', 'businesses', 'are', 'being', 'supported', 'by', 'the', 'numbers', 'more', 'than', 'million', 'people', 'have', 'received', 'support', 'from', 'the', 'canada', 'emergency', 'response', 'benefit', 'providing', 'month', 'to', 'canadians', 'who', 'have', 'lost', 'their', 'income', 'due', 'to', 'covid', 'million', 'canadian', 'families', 'received', 'special', 'one', 'time', 'top', 'up', 'of', 'the', 'canada', 'child', 'benefit', 'for', 'each', 'child', 'and', 'the', 'canada', 'child', 'benefit', 'is', 'increasing', 'again', 'this', 'month', 'to', 'help', 'with', 'the', 'high', 'costs', 'of', 'raising', 'kids', 'million', 'employees', 'have', 'been', 'supported', 'by', 'the', 'canada', 'emergency', 'wage', 'subsidy', 'by', 'helping', 'them', 'stay', 'in', 'the', 'workforce', 'or', 'return', 'to', 'work', 'million', 'low', 'and', 'modest', 'income', 'individuals', 'and', 'families', 'received', 'special', 'one', 'time', 'payment', 'through', 'the', 'gst', 'credit', 'on', 'average', 'single', 'adults', 'received', 'in', 'additional', 'benefits', 'and', 'couples', 'almost', 'more', 'than', 'students', 'have', 'received', 'the', 'canada', 'emergency', 'student', 'benefit', 'providing', 'per', 'month', 'for', 'eligible', 'students', 'and', 'per', 'month', 'to', 'those', 'with', 'dependents', 'or', 'disability', 'million', 'seniors', 'are', 'receiving', 'one', 'time', 'tax', 'free', 'payment', 'of', 'and', 'those', 'who', 'are', 'also', 'eligible', 'for', 'the', 'gis', 'are', 'also', 'receiving', 'an', 'additional', 'more', 'than', 'applicants', 'have', 'been', 'approved', 'for', 'the', 'canada', 'emergency', 'business', 'account', 'to', 'help', 'ensure', 'small', 'businesses', 'can', 'keep', 'our', 'economy', 'strong', 'through', 'this', 'difficult', 'time', 'learn', 'more', 'on', 'our', 'blog', 'about', 'the', 'steps', 'the', 'liberal', 'government', 'is', 'taking', 'to', 'keep', 'canadians', 'safe', 'healthy', 'and', 'supported', 'throughout', 'the', 'covid', 'pandemic', 'the', 'health', 'and', 'safety', 'of', 'canadians', 'is', 'our', 'top', 'priority', 'as', 'our', 'economy', 'gradually', 'and', 'safely', 'reopens', 'our', 'liberal', 'government', 'will', 'continue', 'to', 'ensure', 'that', 'canadians', 'have', 'the', 'support', 'they', 'need', 'we', 'll', 'get', 'through', 'this', 'together', 'and', 'as', 'justin', 'trudeau', 'has', 'said', 'you', 'can', 'be', 'sure', 'that', 'our', 'country', 'will', 'come', 'roaring', 'back', 'for', 'the', 'latest', 'details', 'on', 'stopping', 'the', 'spread', 'of', 'covid', 'and', 'canada', 'whole', 'of', 'government', 'response', 'you', 'can', 'also', 'check', 'out', 'canada', 'ca', 'coronavirus', 'faqs', 'keeping', 'canadians', 'supported', 'through', 'the', 'impacts', 'of', 'covid', 'thank', 'you', 'for', 'your', 'support', 'and', 'wishing', 'you', 'and', 'your', 'loved', 'ones', 'all', 'the', 'best', 'liberal', 'party', 'of', 'canada', 'note', 'all', 'figures', 'updated', 'as', 'of', 'early', 'july', 'the', 'government', 'of', 'canada', 'fiscal', 'snapshot', 'was', 'presented', 'on', 'july']]\n"
          ],
          "name": "stdout"
        }
      ]
    },
    {
      "cell_type": "markdown",
      "metadata": {
        "id": "xgIQ-nm8-Q_3",
        "colab_type": "text"
      },
      "source": [
        "## Phrase Modeling: Bi-grams and Tri-grams\n",
        "- Bigrams are two words frequently occurring together in the document. Trigrams are 3 words frequently occurring. Some examples in our example are: ‘mr_speaker’, ‘prime_minister’, ‘middle_class’ etc.\n",
        "\n",
        "- Gensim’s Phrases model can build and implement the bigrams, trigrams, n-grams and more. The two important arguments to Phrases are <strong>min_count</strong> and <strong>threshold</strong>.\n",
        "\n",
        "- The higher the values of these param, the harder it is for words to be combined."
      ]
    },
    {
      "cell_type": "code",
      "metadata": {
        "id": "iUp4hzeC-Q_4",
        "colab_type": "code",
        "colab": {}
      },
      "source": [
        "# Build the bigram and trigram models\n",
        "bigram = gensim.models.Phrases(data_words, min_count=5, threshold=100) # higher threshold fewer phrases.\n",
        "trigram = gensim.models.Phrases(bigram[data_words], threshold=100)\n",
        "\n",
        "# Faster way to get a sentence clubbed as a trigram/bigram\n",
        "bigram_mod = gensim.models.phrases.Phraser(bigram)\n",
        "trigram_mod = gensim.models.phrases.Phraser(trigram)"
      ],
      "execution_count": 14,
      "outputs": []
    },
    {
      "cell_type": "markdown",
      "metadata": {
        "id": "Rl_hDM6W-Q_8",
        "colab_type": "text"
      },
      "source": [
        "## Remove Stopwords, Make Bigrams and Lemmatize Text\n",
        "- The phrase models are ready. Let’s define the functions to remove the stopwords, make n-grams and lemmatization and call them sequentially.\n",
        "\n",
        "- Stemming and Lemmatization both generate the root form of the inflected words. The difference is that stem might not be an actual word whereas, lemma is an actual language word."
      ]
    },
    {
      "cell_type": "code",
      "metadata": {
        "id": "w3Jj5zbC-Q_9",
        "colab_type": "code",
        "colab": {
          "base_uri": "https://localhost:8080/",
          "height": 34
        },
        "outputId": "bd596e9a-ac78-42f3-fff1-8dbf85e6640d"
      },
      "source": [
        "stop_words = stopwords.words('english')\n",
        "stop_words.extend(['from', 'subject', 're', 'edu', 'use', 'also', 'make', 'take', 'trouvaient', 'tranchee', 'lendemain', 'prendraient', \n",
        "                  'nous', 'souvenon', 'leur', 'connaisson', 'autre', 'malheureusement', 'pleureron', 'si', 'prenon', 'toute', 'necessaire', 'la'\n",
        "                  'empirer', 'somme', 'devant', 'pour', 'responsabilite', 'chambre', 'et', 'venon', 'aide', 'biographie', 'share', 'em'])\n",
        "\n",
        "# Define functions for stopwords, bigrams, trigrams and lemmatization\n",
        "def remove_stopwords(texts):\n",
        "    return [[word for word in simple_preprocess(str(doc)) if word not in stop_words] for doc in texts]\n",
        "\n",
        "def make_bigrams(texts):\n",
        "    return [bigram_mod[doc] for doc in texts]\n",
        "\n",
        "def make_trigrams(texts):\n",
        "    return [trigram_mod[bigram_mod[doc]] for doc in texts]\n",
        "\n",
        "def lemmatization(texts, allowed_postags=['NOUN', 'ADJ', 'VERB', 'ADV']):\n",
        "    \"\"\"https://spacy.io/api/annotation\"\"\"\n",
        "    texts_out = []\n",
        "    for sent in texts:\n",
        "        doc = nlp(\" \".join(sent)) \n",
        "        texts_out.append([token.lemma_ for token in doc if token.pos_ in allowed_postags])\n",
        "    return texts_out\n",
        "\n",
        "print(\"Functions created successfully!\")"
      ],
      "execution_count": 15,
      "outputs": [
        {
          "output_type": "stream",
          "text": [
            "Functions created successfully!\n"
          ],
          "name": "stdout"
        }
      ]
    },
    {
      "cell_type": "markdown",
      "metadata": {
        "id": "gVwX-SdI-RAD",
        "colab_type": "text"
      },
      "source": [
        "SpaCy is an open-source library for advanced Natural Language Processing in Python. It is designed specifically for production use and helps build applications that process and “understand” large volumes of text. It can be used to build information extraction or natural language understanding systems, or to pre-process text for deep learning. Some of the features provided by spaCy are- Tokenization, Parts-of-Speech (PoS) Tagging, Text Classification and Named Entity Recognition."
      ]
    },
    {
      "cell_type": "code",
      "metadata": {
        "id": "GNyOj5Hn-RAE",
        "colab_type": "code",
        "colab": {
          "base_uri": "https://localhost:8080/",
          "height": 54
        },
        "outputId": "5991c4d6-bf13-476a-9ae0-411c8f45e762"
      },
      "source": [
        "# Remove Stop Words\n",
        "data_words_nostops = remove_stopwords(data_words)\n",
        "\n",
        "# Form Bigrams\n",
        "data_words_bigrams = make_bigrams(data_words_nostops)\n",
        "\n",
        "# Initialize spacy 'en' model, keeping only tagger component (for efficiency)\n",
        "nlp = en_core_web_sm.load()\n",
        "\n",
        "# Do lemmatization keeping only noun, adj, vb, adv\n",
        "data_lemmatized = lemmatization(data_words_bigrams, allowed_postags=['NOUN', 'ADJ', 'VERB', 'ADV'])\n",
        "\n",
        "print(data_lemmatized[:1])"
      ],
      "execution_count": 16,
      "outputs": [
        {
          "output_type": "stream",
          "text": [
            "[['snapshot', 'support', 'canadian', 'stabilize', 'economy', 'pandemic', 'liberal', 'government', 'work', 'hard', 'sure', 'family', 'safe', 'support', 'challenging', 'time', 'fiscal', 'snapshot', 'present', 'today', 'liberal', 'government', 'able', 'stabilize', 'economy', 'keep', 'canadian', 'support', 'support', 'large', 'peacetime', 'investment', 'history', 'allow', 'million', 'canadian', 'family', 'business', 'keep', 'receive', 'income', 'time', 'uncertainty', 'highlight', 'canadian', 'family', 'worker', 'small', 'business', 'support', 'number', 'people', 'receive', 'benefit', 'provide', 'month', 'canadian', 'lose', 'income', 'due', 'covid', 'canadian', 'family', 'receive', 'special', 'time', 'increase', 'month', 'help', 'high', 'cost', 'raise', 'kid', 'employee', 'support', 'help', 'stay', 'workforce', 'return', 'work', 'low', 'modest', 'income', 'individual', 'family', 'receive', 'special', 'time', 'payment', 'gst', 'credit', 'average', 'single', 'adult', 'receive', 'additional', 'benefit', 'couple', 'almost', 'student', 'receive', 'emergency', 'student', 'benefit', 'provide', 'month', 'eligible', 'student', 'month', 'dependent', 'disability', 'senior', 'receive', 'time', 'tax', 'free', 'payment', 'eligible', 'gis', 'receive', 'additional', 'applicant', 'approve', 'emergency', 'account', 'help', 'ensure', 'small', 'business', 'keep', 'economy', 'strong', 'difficult', 'time', 'learn', 'blog', 'step', 'liberal', 'government', 'take', 'keep', 'canadian', 'safe', 'healthy', 'support', 'health', 'safety', 'canadian', 'top', 'priority', 'economy', 'gradually', 'safely', 'reopen', 'liberal', 'government', 'continue', 'ensure', 'canadian', 'support', 'need', 'together', 'say', 'sure', 'country', 'come', 'roar', 'late', 'detail', 'stop', 'spread', 'whole', 'government', 'response', 'check', 'keep', 'canadian', 'support', 'impact', 'thank', 'support', 'wish', 'good', 'figure', 'update', 'early', 'government', 'present']]\n"
          ],
          "name": "stdout"
        }
      ]
    },
    {
      "cell_type": "markdown",
      "metadata": {
        "id": "gx5E-Wrm-RAJ",
        "colab_type": "text"
      },
      "source": [
        "## Data Transformation: Corpus and Dictionary\n",
        "### The two main inputs to the LDA topic model are the dictionary(id2word) and the corpus. Let’s create them."
      ]
    },
    {
      "cell_type": "code",
      "metadata": {
        "scrolled": true,
        "id": "jPHkx0uG-RAK",
        "colab_type": "code",
        "colab": {
          "base_uri": "https://localhost:8080/",
          "height": 88
        },
        "outputId": "dd570761-7b33-4741-ac52-cbfd7f6efcc7"
      },
      "source": [
        "# Create Dictionary\n",
        "id2word = corpora.Dictionary(data_lemmatized)\n",
        "\n",
        "# Create Corpus\n",
        "texts = data_lemmatized\n",
        "\n",
        "# Term Document Frequency\n",
        "corpus = [id2word.doc2bow(text) for text in texts]\n",
        "\n",
        "# View\n",
        "print(corpus[:1]) # view first article in corpus\n",
        "\n",
        "print(\"\\nNumber of articles with unique words and frequency are:\",len(corpus))"
      ],
      "execution_count": 17,
      "outputs": [
        {
          "output_type": "stream",
          "text": [
            "[[(0, 1), (1, 1), (2, 2), (3, 1), (4, 1), (5, 1), (6, 1), (7, 1), (8, 1), (9, 3), (10, 1), (11, 3), (12, 10), (13, 1), (14, 1), (15, 1), (16, 1), (17, 1), (18, 1), (19, 1), (20, 1), (21, 1), (22, 1), (23, 1), (24, 1), (25, 1), (26, 1), (27, 1), (28, 4), (29, 2), (30, 2), (31, 1), (32, 2), (33, 5), (34, 1), (35, 1), (36, 1), (37, 1), (38, 1), (39, 6), (40, 1), (41, 1), (42, 1), (43, 1), (44, 1), (45, 3), (46, 1), (47, 1), (48, 1), (49, 1), (50, 3), (51, 1), (52, 1), (53, 1), (54, 5), (55, 1), (56, 1), (57, 1), (58, 1), (59, 4), (60, 1), (61, 1), (62, 1), (63, 1), (64, 4), (65, 1), (66, 1), (67, 1), (68, 2), (69, 1), (70, 1), (71, 2), (72, 1), (73, 2), (74, 1), (75, 8), (76, 1), (77, 1), (78, 1), (79, 1), (80, 2), (81, 1), (82, 1), (83, 1), (84, 1), (85, 1), (86, 2), (87, 2), (88, 2), (89, 1), (90, 2), (91, 1), (92, 1), (93, 1), (94, 1), (95, 3), (96, 10), (97, 2), (98, 1), (99, 1), (100, 1), (101, 6), (102, 1), (103, 1), (104, 1), (105, 1), (106, 1), (107, 1), (108, 1), (109, 2), (110, 1), (111, 1)]]\n",
            "\n",
            "Number of articles with unique words and frequency are: 38\n"
          ],
          "name": "stdout"
        }
      ]
    },
    {
      "cell_type": "markdown",
      "metadata": {
        "id": "D91BfHqk-RAQ",
        "colab_type": "text"
      },
      "source": [
        "- Gensim creates a unique id for each word in the document. The produced corpus shown above is a mapping of (word_id, word_frequency).\n",
        "- For example, (0, 1) above implies, word id 0 occurs one time in the first document. Likewise, word id 1 occurs twice and so on.\n",
        "- In the corpus shown above, there are 180 unique words in the first article"
      ]
    },
    {
      "cell_type": "markdown",
      "metadata": {
        "id": "F-pUtGk7-RAR",
        "colab_type": "text"
      },
      "source": [
        "## Base Model\n",
        "\n",
        "We have everything required to train the base LDA model. In addition to the corpus and dictionary, you need to provide the number of topics as well. Apart from that, alpha and eta are hyperparameters that affect sparsity of the topics. According to the Gensim docs, both defaults to 1.0/num_topics prior (we’ll use default for the base model).\n",
        "\n",
        "- <strong>chunksize</strong> controls how many documents are processed at a time in the training algorithm. Increasing chunksize will speed up training, at least as long as the chunk of documents easily fit into memory.\n",
        "\n",
        "\n",
        "- <strong>passes</strong> controls how often we train the model on the entire corpus (set to 10). Another word for passes might be “epochs”. iterations is somewhat technical, but essentially it controls how often we repeat a particular loop over each document. It is important to set the number of “passes” and “iterations” high enough.\n",
        "\n",
        "- <strong>Note</strong>: The <code>random_state</code> argument passed to the model was set to a seed value to ensure that results are reproducible everytime the iteration is run."
      ]
    },
    {
      "cell_type": "code",
      "metadata": {
        "id": "17Jf2g13-RAR",
        "colab_type": "code",
        "colab": {}
      },
      "source": [
        "# Build LDA model\n",
        "lda_model = gensim.models.LdaMulticore(corpus=corpus,\n",
        "                                       id2word=id2word,\n",
        "                                       num_topics=10, \n",
        "                                       random_state=np.random.seed(0),\n",
        "                                       chunksize=100,\n",
        "                                       passes=10,\n",
        "                                       per_word_topics=True)"
      ],
      "execution_count": 18,
      "outputs": []
    },
    {
      "cell_type": "markdown",
      "metadata": {
        "id": "Hfb2TFv8-RAV",
        "colab_type": "text"
      },
      "source": [
        "## View the topics in LDA model\n",
        "\n",
        "- The above LDA model is built with 10 different topics where each topic is a combination of keywords and each keyword contributes a certain weightage to the topic.\n",
        "\n",
        "\n",
        "- You can see the keywords for each topic and the weightage (importance) of each keyword using lda_model.print_topics()"
      ]
    },
    {
      "cell_type": "code",
      "metadata": {
        "id": "5NMbldIL-RAW",
        "colab_type": "code",
        "colab": {
          "base_uri": "https://localhost:8080/",
          "height": 697
        },
        "outputId": "fb693691-7ad8-4903-c100-864a0a8833f9"
      },
      "source": [
        "# Print the strongest keywords in the 10 topics\n",
        "pprint(lda_model.print_topics())\n",
        "doc_lda = lda_model[corpus]"
      ],
      "execution_count": 19,
      "outputs": [
        {
          "output_type": "stream",
          "text": [
            "[(0,\n",
            "  '0.023*\"pollution\" + 0.018*\"source\" + 0.015*\"carbon\" + 0.010*\"economy\" + '\n",
            "  '0.010*\"emission\" + 0.008*\"pricing\" + 0.008*\"federal\" + 0.008*\"price\" + '\n",
            "  '0.007*\"policy\" + 0.007*\"create\"'),\n",
            " (1,\n",
            "  '0.018*\"people\" + 0.012*\"fight\" + 0.009*\"stand\" + 0.008*\"hatred\" + '\n",
            "  '0.007*\"day\" + 0.007*\"year\" + 0.007*\"time\" + 0.007*\"world\" + '\n",
            "  '0.007*\"violence\" + 0.006*\"country\"'),\n",
            " (2,\n",
            "  '0.017*\"canadian\" + 0.014*\"trade\" + 0.012*\"world\" + 0.010*\"work\" + '\n",
            "  '0.010*\"international\" + 0.008*\"woman\" + 0.007*\"new\" + 0.007*\"global\" + '\n",
            "  '0.007*\"need\" + 0.007*\"government\"'),\n",
            " (3,\n",
            "  '0.014*\"liberal\" + 0.013*\"canadian\" + 0.012*\"plan\" + 0.010*\"real\" + '\n",
            "  '0.009*\"new\" + 0.008*\"conservative\" + 0.007*\"want\" + 0.007*\"family\" + '\n",
            "  '0.007*\"government\" + 0.006*\"team\"'),\n",
            " (4,\n",
            "  '0.022*\"canadian\" + 0.018*\"liberal\" + 0.014*\"work\" + 0.013*\"make\" + '\n",
            "  '0.013*\"community\" + 0.012*\"new\" + 0.010*\"team\" + 0.009*\"day\" + 0.009*\"help\" '\n",
            "  '+ 0.008*\"movement\"'),\n",
            " (5,\n",
            "  '0.027*\"canadian\" + 0.022*\"support\" + 0.015*\"senior\" + 0.013*\"government\" + '\n",
            "  '0.010*\"help\" + 0.010*\"new\" + 0.009*\"covid\" + 0.009*\"food\" + 0.009*\"provide\" '\n",
            "  '+ 0.009*\"community\"'),\n",
            " (6,\n",
            "  '0.021*\"plan\" + 0.018*\"canadian\" + 0.013*\"climate\" + 0.010*\"liberal\" + '\n",
            "  '0.009*\"carbon\" + 0.009*\"team\" + 0.008*\"source\" + 0.007*\"keep\" + '\n",
            "  '0.007*\"week\" + 0.006*\"ever\"'),\n",
            " (7,\n",
            "  '0.024*\"canadian\" + 0.017*\"government\" + 0.014*\"budget\" + 0.013*\"support\" + '\n",
            "  '0.013*\"time\" + 0.012*\"work\" + 0.011*\"federal\" + 0.010*\"source\" + '\n",
            "  '0.008*\"receive\" + 0.008*\"investment\"'),\n",
            " (8,\n",
            "  '0.014*\"canadian\" + 0.012*\"job\" + 0.010*\"woman\" + 0.009*\"community\" + '\n",
            "  '0.009*\"project\" + 0.008*\"create\" + 0.008*\"new\" + 0.008*\"build\" + '\n",
            "  '0.007*\"work\" + 0.007*\"government\"'),\n",
            " (9,\n",
            "  '0.030*\"support\" + 0.024*\"canadian\" + 0.019*\"business\" + 0.018*\"help\" + '\n",
            "  '0.014*\"government\" + 0.012*\"student\" + 0.011*\"benefit\" + 0.011*\"need\" + '\n",
            "  '0.010*\"new\" + 0.010*\"covid\"')]\n"
          ],
          "name": "stdout"
        }
      ]
    },
    {
      "cell_type": "markdown",
      "metadata": {
        "id": "di4ohle4-RAZ",
        "colab_type": "text"
      },
      "source": [
        "## Coherence Measures Overview\n",
        "Let’s take a quick look at different coherence measures, and how they are calculated:\n",
        "\n",
        "- <strong>C_v</strong> measure is based on a sliding window, one-set segmentation of the top words and an indirect confirmation measure that uses normalized pointwise mutual information (NPMI) and the cosine similarity\n",
        "\n",
        "\n",
        "- <strong>C_p</strong> is based on a sliding window, one-preceding segmentation of the top words and the confirmation measure of Fitelson’s coherence\n",
        "\n",
        "\n",
        "- <strong>C_uci</strong> measure is based on a sliding window and the pointwise mutual information (PMI) of all word pairs of the given top words\n",
        "\n",
        "\n",
        "- <strong>C_umass</strong> is based on document cooccurrence counts, a one-preceding segmentation and a logarithmic conditional probability as confirmation measure\n",
        "\n",
        "\n",
        "- <strong>C_npmi</strong> is an enhanced version of the C_uci coherence using the normalized pointwise mutual information (NPMI)\n",
        "\n",
        "\n",
        "- <strong>C_a</strong> is based on a context window, a pairwise comparison of the top words and an indirect confirmation measure that uses normalized pointwise mutual information (NPMI) and the cosine similarity"
      ]
    },
    {
      "cell_type": "markdown",
      "metadata": {
        "id": "4Sz3FfJ3-RAa",
        "colab_type": "text"
      },
      "source": [
        "## Compute Model Perplexity and Coherence Score\n",
        "\n",
        "### Let’s calculate the baseline coherence score"
      ]
    },
    {
      "cell_type": "code",
      "metadata": {
        "id": "JeIol9H0-RAa",
        "colab_type": "code",
        "colab": {
          "base_uri": "https://localhost:8080/",
          "height": 51
        },
        "outputId": "a58944ee-c5d6-4ab3-b23d-afa0d26e2145"
      },
      "source": [
        "# Compute Coherence Score\n",
        "coherence_model_lda = CoherenceModel(model=lda_model, texts=data_lemmatized, dictionary=id2word, coherence='c_v')\n",
        "coherence_lda = coherence_model_lda.get_coherence()\n",
        "print('\\nCoherence Score: ', coherence_lda)"
      ],
      "execution_count": 20,
      "outputs": [
        {
          "output_type": "stream",
          "text": [
            "\n",
            "Coherence Score:  0.4113879344167515\n"
          ],
          "name": "stdout"
        }
      ]
    },
    {
      "cell_type": "markdown",
      "metadata": {
        "id": "F_5rIvdT-RAe",
        "colab_type": "text"
      },
      "source": [
        "## Hyperparameter Tuning\n",
        "\n",
        "First, let’s differentiate between model hyperparameters and model parameters:\n",
        "\n",
        "- <strong>Model hyperparameters</strong> can be thought of as settings for a machine learning algorithm that are tuned by the data scientist before training. Examples would be the number of trees in the random forest, or in our case, number of topics K\n",
        "\n",
        "\n",
        "- <strong>Model parameters</strong> can be thought of as what the model learns during training, such as the weights for each word in a given topic\n",
        "\n",
        "- <strong>Note</strong>: The <code>random_state</code> argument passed to the model was set to a seed value to ensure that results are reproducible everytime the iteration is run.\n",
        "\n",
        "Now that we have the baseline coherence score for the default LDA model, let’s perform a series of sensitivity tests to help determine the following model hyperparameters:\n",
        "\n",
        "1) Number of Topics (K)\n",
        "\n",
        "2) Dirichlet hyperparameter alpha: Document-Topic Density\n",
        "\n",
        "3) Dirichlet hyperparameter beta: Word-Topic Density\n",
        "\n",
        "We’ll perform these tests in sequence, one parameter at a time by keeping others constant and run them over the complete validation corpus set. We’ll use <strong>C_v</strong> as our choice of metric for performance comparison."
      ]
    },
    {
      "cell_type": "code",
      "metadata": {
        "id": "n9pSKoUq-RAf",
        "colab_type": "code",
        "colab": {}
      },
      "source": [
        "# Supporting function\n",
        "def compute_coherence_values(corpus, dictionary, k, a, b):\n",
        "    \n",
        "    lda_model = gensim.models.LdaMulticore(corpus=corpus,\n",
        "                                           id2word=dictionary,\n",
        "                                           num_topics=k, \n",
        "                                           random_state=np.random.seed(0),\n",
        "                                           chunksize=100,\n",
        "                                           passes=10,\n",
        "                                           alpha=a,\n",
        "                                           eta=b)\n",
        "    \n",
        "    coherence_model_lda = CoherenceModel(model=lda_model, texts=data_lemmatized, dictionary=id2word, coherence='c_v')\n",
        "    \n",
        "    return coherence_model_lda.get_coherence()"
      ],
      "execution_count": 21,
      "outputs": []
    },
    {
      "cell_type": "markdown",
      "metadata": {
        "id": "KZT0v48z-RAk",
        "colab_type": "text"
      },
      "source": [
        "### Let’s call the function, and iterate it over the range of topics, alpha, and beta parameter values"
      ]
    },
    {
      "cell_type": "code",
      "metadata": {
        "id": "TDYXrCCo-RAl",
        "colab_type": "code",
        "colab": {}
      },
      "source": [
        "# # Takes a long time - Run it once and save results to CSV file.\n",
        "# grid = {}\n",
        "# grid['Validation_Set'] = {}\n",
        "\n",
        "# # Topics range\n",
        "# min_topics = 2\n",
        "# max_topics = 11\n",
        "# step_size = 1\n",
        "# topics_range = range(min_topics, max_topics, step_size)\n",
        "\n",
        "# # Alpha parameter\n",
        "# alpha = list(np.arange(0.01, 1, 0.3))\n",
        "# alpha.append('symmetric')\n",
        "# alpha.append('asymmetric')\n",
        "\n",
        "# # Beta parameter\n",
        "# beta = list(np.arange(0.01, 1, 0.3))\n",
        "# beta.append('symmetric')\n",
        "\n",
        "# # Validation sets\n",
        "# num_of_docs = len(corpus)\n",
        "# corpus_set = [corpus]\n",
        "\n",
        "# corpus_title = ['100% Corpus']\n",
        "\n",
        "# model_results = {'Validation_Set': [],\n",
        "#                  'Topics': [],\n",
        "#                  'Alpha': [],\n",
        "#                  'Beta': [],\n",
        "#                  'Coherence': []\n",
        "#                 }\n",
        "\n",
        "# # Can take a long time to run\n",
        "# if 1 == 1:\n",
        "#     pbar = tqdm.tqdm(total=(len(beta)*len(alpha)*len(topics_range)*len(corpus_title)))\n",
        "    \n",
        "#     # iterate through validation corpuses\n",
        "#     for i in range(len(corpus_set)):\n",
        "#         # iterate through number of topics\n",
        "#         for k in topics_range:\n",
        "#             # iterate through alpha values\n",
        "#             for a in alpha:\n",
        "#                 # iterare through beta values\n",
        "#                 for b in beta:\n",
        "#                     # get the coherence score for the given parameters\n",
        "#                     cv = compute_coherence_values(corpus=corpus_set[i], dictionary=id2word, \n",
        "#                                                   k=k, a=a, b=b)\n",
        "#                     # Save the model results\n",
        "#                     model_results['Validation_Set'].append(corpus_title[i])\n",
        "#                     model_results['Topics'].append(k)\n",
        "#                     model_results['Alpha'].append(a)\n",
        "#                     model_results['Beta'].append(b)\n",
        "#                     model_results['Coherence'].append(cv)\n",
        "                    \n",
        "#                     pbar.update(1)\n",
        "                    \n",
        "#     pd.DataFrame(model_results).to_csv('/content/drive/My Drive/Colab Notebooks/lda_tuning_results.csv', index=False)\n",
        "#     pbar.close()"
      ],
      "execution_count": 22,
      "outputs": []
    },
    {
      "cell_type": "markdown",
      "metadata": {
        "id": "GR3se2Hk-RAp",
        "colab_type": "text"
      },
      "source": [
        "## Investigate Results\n",
        "\n",
        "Ranking the resulting dataset by decreasing Coherence score, five plots comparing the Coherence (C_v) vs. Number of Topics for different combinations of Alpha and Beta have been examined. Three plots conclude that the optimum number of topics (K) is 8."
      ]
    },
    {
      "cell_type": "code",
      "metadata": {
        "id": "_EflEe2--RAq",
        "colab_type": "code",
        "colab": {
          "base_uri": "https://localhost:8080/",
          "height": 1000
        },
        "outputId": "eeea1f30-3442-461c-e758-df2cdcbeaf03"
      },
      "source": [
        "df = pd.read_csv('/content/drive/My Drive/Colab Notebooks/lda_tuning_results.csv')\n",
        "df_filter_0 = df[(df.Alpha == '0.31') & (df.Beta == '0.61')]\n",
        "sns.lineplot(x = \"Topics\", y = \"Coherence\", data=df_filter_0).set_title(\"Alpha: 0.31, Beta: 0.61\")\n",
        "plt.show()\n",
        "\n",
        "df_filter_1 = df[(df.Alpha == '0.01') & (df.Beta == '0.61')]\n",
        "sns.lineplot(x = \"Topics\", y = \"Coherence\", data=df_filter_1).set_title(\"Alpha: 0.01, Beta: 0.61\")\n",
        "plt.show()\n",
        "\n",
        "df_filter_2 = df[(df.Alpha == '0.9099999999999999') & (df.Beta == '0.9099999999999999')]\n",
        "sns.lineplot(x = \"Topics\", y = \"Coherence\", data=df_filter_2).set_title(\"Alpha: 0.91, Beta: 0.91\")\n",
        "plt.show()\n",
        "\n",
        "df_filter_3 = df[(df.Alpha == '0.01') & (df.Beta == '0.9099999999999999')]\n",
        "sns.lineplot(x = \"Topics\", y = \"Coherence\", data=df_filter_3).set_title(\"Alpha: 0.01, Beta: 0.91\")\n",
        "plt.show()\n",
        "\n",
        "df_filter_4 = df[(df.Alpha == '0.9099999999999999') & (df.Beta == '0.31')]\n",
        "sns.lineplot(x = \"Topics\", y = \"Coherence\", data=df_filter_4).set_title(\"Alpha: 0.91, Beta: 0.31\")\n",
        "plt.show()"
      ],
      "execution_count": 23,
      "outputs": [
        {
          "output_type": "display_data",
          "data": {
            "image/png": "[encoded data removed]",
            "text/plain": [
              "<Figure size 432x288 with 1 Axes>"
            ]
          },
          "metadata": {
            "tags": [],
            "needs_background": "light"
          }
        },
        {
          "output_type": "display_data",
          "data": {
            "image/png": "[encoded data removed]",
            "text/plain": [
              "<Figure size 432x288 with 1 Axes>"
            ]
          },
          "metadata": {
            "tags": [],
            "needs_background": "light"
          }
        },
        {
          "output_type": "display_data",
          "data": {
            "image/png": "[encoded data removed]",
            "text/plain": [
              "<Figure size 432x288 with 1 Axes>"
            ]
          },
          "metadata": {
            "tags": [],
            "needs_background": "light"
          }
        },
        {
          "output_type": "display_data",
          "data": {
            "image/png": "[encoded data removed]",
            "text/plain": [
              "<Figure size 432x288 with 1 Axes>"
            ]
          },
          "metadata": {
            "tags": [],
            "needs_background": "light"
          }
        },
        {
          "output_type": "display_data",
          "data": {
            "image/png": "[encoded data removed]",
            "text/plain": [
              "<Figure size 432x288 with 1 Axes>"
            ]
          },
          "metadata": {
            "tags": [],
            "needs_background": "light"
          }
        }
      ]
    },
    {
      "cell_type": "markdown",
      "metadata": {
        "id": "yPpQAnRX-RAw",
        "colab_type": "text"
      },
      "source": [
        "## Final Model Training\n",
        "Based on the above plots, models with the highest Coherence scores suggest optimal number of topics = 5.\n",
        "\n",
        "Let’s train the model with highest Coherence score (C_v = 0.492) resulting from the previous iteration function, composed of the following hyperparameters:\n",
        "\n",
        "- Number of Topics (K) = 5\n",
        "- Alpha = 0.31\n",
        "- Beta = 0.61\n",
        "\n",
        "That yields approx. <strong>27%</strong> improvement over the baseline score."
      ]
    },
    {
      "cell_type": "code",
      "metadata": {
        "id": "PWU9ad3D-RAx",
        "colab_type": "code",
        "colab": {}
      },
      "source": [
        "lda_model = gensim.models.LdaMulticore(corpus=corpus,\n",
        "                                           id2word=id2word,\n",
        "                                           num_topics=5, \n",
        "                                           random_state=np.random.seed(0),\n",
        "                                           chunksize=100,\n",
        "                                           passes=10,\n",
        "                                           alpha=0.31,\n",
        "                                           eta=0.61)"
      ],
      "execution_count": 24,
      "outputs": []
    },
    {
      "cell_type": "markdown",
      "metadata": {
        "id": "6kIRkSL0-RA0",
        "colab_type": "text"
      },
      "source": [
        "## Topic Labelling\n",
        "\n",
        "The 8 topics inferred from the highest-scoring keywords in the model seem semantically similar and interpretable in terms of human-readability. It can also be noted that most of these topics talk about Government support plans as inferred from the topic labels. \n",
        "\n",
        "The proposed resulting Topic Labels are:\n",
        "\n",
        "1) Canadian Government Stance on Climate Change \n",
        "\n",
        "2) Canadian Government Support Plan for Families & Businesses\n",
        "\n",
        "3) Canadian Government Trade Support Plan\n",
        "\n",
        "4) Canadian Government Student & Work Support Plan\n",
        "\n",
        "5) Canadian Liberal Government Support Plan to Communities"
      ]
    },
    {
      "cell_type": "code",
      "metadata": {
        "id": "t37skqDU-RA1",
        "colab_type": "code",
        "colab": {
          "base_uri": "https://localhost:8080/",
          "height": 357
        },
        "outputId": "c82531f4-9338-498e-d4e0-b90d3960bf2e"
      },
      "source": [
        "# Print the strongest keywords in the 5 topics\n",
        "pprint(lda_model.print_topics())\n",
        "doc_lda = lda_model[corpus]"
      ],
      "execution_count": 25,
      "outputs": [
        {
          "output_type": "stream",
          "text": [
            "[(0,\n",
            "  '0.004*\"pollution\" + 0.003*\"carbon\" + 0.002*\"pricing\" + 0.002*\"source\" + '\n",
            "  '0.002*\"rebate\" + 0.002*\"efficient\" + 0.002*\"effective\" + 0.001*\"cleaner\" + '\n",
            "  '0.001*\"price\" + 0.001*\"emission\"'),\n",
            " (1,\n",
            "  '0.019*\"canadian\" + 0.014*\"support\" + 0.010*\"help\" + 0.010*\"business\" + '\n",
            "  '0.009*\"family\" + 0.007*\"government\" + 0.007*\"keep\" + 0.006*\"time\" + '\n",
            "  '0.006*\"people\" + 0.005*\"new\"'),\n",
            " (2,\n",
            "  '0.010*\"canadian\" + 0.008*\"world\" + 0.007*\"trade\" + 0.007*\"woman\" + '\n",
            "  '0.006*\"work\" + 0.006*\"international\" + 0.006*\"people\" + 0.005*\"new\" + '\n",
            "  '0.005*\"need\" + 0.005*\"support\"'),\n",
            " (3,\n",
            "  '0.013*\"canadian\" + 0.010*\"government\" + 0.009*\"support\" + 0.007*\"work\" + '\n",
            "  '0.007*\"new\" + 0.006*\"student\" + 0.006*\"need\" + 0.006*\"plan\" + '\n",
            "  '0.006*\"liberal\" + 0.005*\"invest\"'),\n",
            " (4,\n",
            "  '0.018*\"canadian\" + 0.012*\"liberal\" + 0.010*\"support\" + 0.010*\"work\" + '\n",
            "  '0.008*\"new\" + 0.008*\"team\" + 0.008*\"community\" + 0.007*\"help\" + '\n",
            "  '0.007*\"make\" + 0.006*\"real\"')]\n"
          ],
          "name": "stdout"
        }
      ]
    },
    {
      "cell_type": "markdown",
      "metadata": {
        "id": "RLX1s_K2-RA4",
        "colab_type": "text"
      },
      "source": [
        "## Visualize Topics\n",
        "\n",
        "### Setting λ  = 1 results in the familiar ranking of terms in decreasing order of their topic-specific probability"
      ]
    },
    {
      "cell_type": "code",
      "metadata": {
        "id": "exz-OW6U-RA5",
        "colab_type": "code",
        "colab": {
          "base_uri": "https://localhost:8080/",
          "height": 881
        },
        "outputId": "21b175e5-62ff-458f-85fd-e1df55130197"
      },
      "source": [
        "pyLDAvis.enable_notebook()\n",
        "\n",
        "LDAvis_prepared = pyLDAvis.gensim.prepare(lda_model, corpus, id2word)\n",
        "\n",
        "LDAvis_prepared"
      ],
      "execution_count": 26,
      "outputs": [
        {
          "output_type": "execute_result",
          "data": {
            "text/html": [
              "\n",
              "<link rel=\"stylesheet\" type=\"text/css\" href=\"https://cdn.rawgit.com/bmabey/pyLDAvis/files/ldavis.v1.0.0.css\">\n",
              "\n",
              "\n",
              "<div id=\"ldavis_el1011403573708862084940483373\"></div>\n",
              "<script type=\"text/javascript\">\n",
              "\n",
              "var ldavis_el1011403573708862084940483373_data = {\"mdsDat\": {\"x\": [-0.04567526276803068, 0.04902735404417846, -0.0386102942918957, -0.028183747877008263, 0.0634419508927561], \"y\": [0.017725724221175843, 0.055676315443586095, 0.010657287488806297, -0.04173865460702757, -0.042320672546540705], \"topics\": [1, 2, 3, 4, 5], \"cluster\": [1, 1, 1, 1, 1], \"Freq\": [30.59626579284668, 29.055070877075195, 21.305522918701172, 18.437278747558594, 0.6058670282363892]}, \"tinfo\": {\"Term\": [\"pollution\", \"trade\", \"liberal\", \"world\", \"keep\", \"international\", \"business\", \"carbon\", \"source\", \"family\", \"canadian\", \"help\", \"student\", \"federal\", \"support\", \"woman\", \"plan\", \"movement\", \"volunteer\", \"real\", \"week\", \"project\", \"emission\", \"covid\", \"invest\", \"team\", \"global\", \"com\", \"progress\", \"knock\", \"project\", \"federal\", \"budget\", \"pipeline\", \"student\", \"market\", \"double\", \"investment\", \"city\", \"transition\", \"eligible\", \"customer\", \"invest\", \"stigma\", \"municipality\", \"first_nation\", \"net\", \"building\", \"profit\", \"expansion\", \"century\", \"introduce\", \"energy\", \"question\", \"move\", \"mental\", \"illness\", \"already\", \"skill\", \"grad\", \"senior\", \"reduce\", \"additional\", \"job\", \"source\", \"want\", \"program\", \"government\", \"create\", \"environment\", \"get\", \"tax\", \"plan\", \"change\", \"need\", \"see\", \"support\", \"canadian\", \"economic\", \"provide\", \"new\", \"community\", \"work\", \"good\", \"real\", \"liberal\", \"today\", \"time\", \"help\", \"build\", \"know\", \"year\", \"include\", \"benefit\", \"trade\", \"international\", \"hatred\", \"agreement\", \"principle\", \"partner\", \"defend\", \"terrorist\", \"refuse\", \"deal\", \"value\", \"diversity\", \"respect\", \"girl\", \"equality\", \"firm\", \"global\", \"peace\", \"cultural\", \"faith\", \"tragedy\", \"close\", \"host\", \"rule\", \"era\", \"unpredictable\", \"tie\", \"relation\", \"institution\", \"innocent\", \"woman\", \"world\", \"understand\", \"interest\", \"back\", \"stand\", \"violence\", \"approach\", \"friend\", \"other\", \"must\", \"leader\", \"offer\", \"people\", \"call\", \"country\", \"canadian\", \"say\", \"need\", \"work\", \"know\", \"step\", \"new\", \"year\", \"include\", \"support\", \"government\", \"benefit\", \"team\", \"right\", \"community\", \"movement\", \"volunteer\", \"knock\", \"pride\", \"door\", \"phone\", \"food\", \"ready\", \"dayofaction\", \"goknockdoor\", \"injustice\", \"candidate\", \"racism\", \"chip\", \"com\", \"systemic\", \"parade\", \"colour\", \"survey\", \"nomination\", \"insecurity\", \"supporter\", \"event\", \"black\", \"progress\", \"parental\", \"count\", \"discrimination\", \"register\", \"bank\", \"hope\", \"much\", \"hard\", \"liberal\", \"team\", \"organization\", \"campaign\", \"real\", \"election\", \"hear\", \"make\", \"many\", \"community\", \"canadian\", \"continue\", \"together\", \"work\", \"plan\", \"grow\", \"help\", \"support\", \"new\", \"take\", \"keep\", \"day\", \"family\", \"week\", \"government\", \"year\", \"people\", \"well\", \"build\", \"stabilize\", \"receive\", \"sickness\", \"defer\", \"ad\", \"advertising\", \"payroll\", \"credit\", \"virus\", \"healthcare\", \"period\", \"modest\", \"prenon\", \"wealthy\", \"feature\", \"sacrifice\", \"worry\", \"employee\", \"payment\", \"safety\", \"minimum\", \"due\", \"highlight\", \"quick\", \"self\", \"update\", \"sick\", \"worried\", \"mandatory\", \"lend\", \"business\", \"keep\", \"family\", \"small\", \"week\", \"covid\", \"worker\", \"health\", \"help\", \"support\", \"response\", \"canadian\", \"month\", \"time\", \"income\", \"safe\", \"government\", \"people\", \"face\", \"detail\", \"economy\", \"benefit\", \"liberal\", \"fight\", \"new\", \"work\", \"together\", \"announce\", \"today\", \"stand\", \"pricing\", \"rebate\", \"efficient\", \"intense\", \"sit\", \"levy\", \"smart\", \"turcottefederal\", \"willing\", \"planhttps\", \"toolkit\", \"putting_price\", \"calgary\", \"heatwave\", \"pure\", \"analyst\", \"yuy\", \"pureearthnow\", \"timely\", \"brucedirector\", \"spur\", \"wildfire\", \"tombeassociate\", \"congrat\", \"hurricane\", \"jurisdiction\", \"cleaner\", \"effective\", \"achieve\", \"harmful\", \"carbon\", \"pollution\", \"source\", \"price\", \"emission\"], \"Freq\": [14.0, 25.0, 62.0, 38.0, 30.0, 20.0, 43.0, 7.0, 25.0, 39.0, 157.0, 62.0, 26.0, 18.0, 98.0, 29.0, 39.0, 10.0, 10.0, 34.0, 19.0, 15.0, 11.0, 24.0, 25.0, 37.0, 17.0, 12.0, 18.0, 8.0, 13.865959167480469, 15.694550514221191, 11.115694999694824, 6.007162570953369, 21.724863052368164, 8.207491874694824, 4.700456142425537, 11.09572982788086, 6.128900527954102, 3.961928367614746, 8.134100914001465, 3.9102158546447754, 18.706205368041992, 3.2833735942840576, 3.2814431190490723, 3.280709743499756, 3.273967981338501, 3.267778158187866, 3.2497849464416504, 3.2339537143707275, 3.2226247787475586, 4.6648712158203125, 5.89774751663208, 3.982128381729126, 7.15180778503418, 2.5708138942718506, 2.570614814758301, 5.396439075469971, 2.5639801025390625, 2.5639052391052246, 17.168622970581055, 7.86859130859375, 6.766218185424805, 17.04376792907715, 15.052189826965332, 11.743111610412598, 8.135391235351562, 35.593536376953125, 14.72898006439209, 10.156939506530762, 17.258434295654297, 9.530012130737305, 19.284793853759766, 9.65860652923584, 20.055740356445312, 13.042215347290039, 32.056644439697266, 43.95528030395508, 12.537510871887207, 13.002460479736328, 23.613204956054688, 18.47616958618164, 24.652725219726562, 12.809185981750488, 14.387226104736328, 19.270227432250977, 13.904314041137695, 14.147953033447266, 17.123226165771484, 13.126463890075684, 13.503701210021973, 13.923699378967285, 13.016570091247559, 12.954129219055176, 23.53225326538086, 18.749889373779297, 9.249473571777344, 9.240852355957031, 7.214508533477783, 9.932968139648438, 5.842524528503418, 5.175220966339111, 5.17078971862793, 9.92922306060791, 7.214592933654785, 4.495538711547852, 4.4925923347473145, 4.4720563888549805, 7.579524040222168, 4.49498176574707, 13.321011543273926, 5.847639083862305, 3.819370985031128, 3.8145699501037598, 3.813349962234497, 3.8139145374298096, 3.8126516342163086, 3.812499523162842, 3.8118512630462646, 3.811133861541748, 3.8106086254119873, 3.7960429191589355, 5.1753764152526855, 3.1351606845855713, 21.157411575317383, 26.917783737182617, 9.926383018493652, 10.621214866638184, 9.792280197143555, 15.195196151733398, 7.899799346923828, 7.890297889709473, 8.513534545898438, 4.9215850830078125, 8.506128311157227, 11.21448802947998, 7.228604316711426, 18.397125244140625, 8.455991744995117, 12.556717872619629, 32.685546875, 11.985542297363281, 16.085866928100586, 20.659631729125977, 13.168112754821777, 11.813504219055176, 17.310699462890625, 12.863423347473145, 11.604601860046387, 15.856966018676758, 14.136231422424316, 10.665266036987305, 10.014370918273926, 8.761083602905273, 8.886439323425293, 9.148843765258789, 9.024075508117676, 7.278950214385986, 6.649654388427734, 6.0263142585754395, 3.515096426010132, 7.886308670043945, 4.704589366912842, 2.890618324279785, 2.890449047088623, 2.8884201049804688, 2.864407539367676, 5.398260116577148, 6.383203506469727, 8.127018928527832, 2.261836290359497, 2.2616727352142334, 2.2613284587860107, 2.260557174682617, 2.260145664215088, 2.259385347366333, 2.256844997406006, 4.166197299957275, 4.141834259033203, 11.185810089111328, 2.1335816383361816, 4.740489482879639, 2.8895864486694336, 2.8894073963165283, 2.393195390701294, 4.693578243255615, 8.625247955322266, 13.174976348876953, 28.78688621520996, 17.916332244873047, 5.923200607299805, 6.595221996307373, 15.003440856933594, 7.720082759857178, 4.804004669189453, 16.623090744018555, 11.113603591918945, 17.835676193237305, 42.09910202026367, 11.145254135131836, 11.644618034362793, 22.7441349029541, 14.037666320800781, 8.738762855529785, 17.294565200805664, 22.8590030670166, 18.158340454101562, 10.359073638916016, 9.837542533874512, 9.633709907531738, 9.631401062011719, 7.889443397521973, 11.204253196716309, 9.327834129333496, 9.423768997192383, 8.059718132019043, 8.063054084777832, 4.028846263885498, 5.890231132507324, 2.8107268810272217, 2.8099067211151123, 4.456733703613281, 2.7780401706695557, 2.744279623031616, 6.624166965484619, 3.562774658203125, 2.201843500137329, 2.201277494430542, 2.200377941131592, 2.199023962020874, 2.1809592247009277, 2.180713415145874, 2.987722635269165, 3.340719223022461, 2.8441829681396484, 6.7585039138793945, 3.6239376068115234, 2.852524518966675, 3.602890968322754, 2.69838285446167, 2.348130226135254, 2.347059488296509, 4.874233245849609, 1.5922136306762695, 1.5925734043121338, 1.5921695232391357, 1.5921127796173096, 20.294614791870117, 14.538981437683105, 17.963891983032227, 7.369997024536133, 8.837953567504883, 10.466550827026367, 10.906747817993164, 7.4004807472229, 20.750818252563477, 28.039329528808594, 7.373589992523193, 38.389217376708984, 9.29367446899414, 12.080965995788574, 6.1932692527771, 6.411032676696777, 15.192572593688965, 11.918045997619629, 6.350170612335205, 6.017696857452393, 8.52403736114502, 8.629134178161621, 10.81900405883789, 7.154109954833984, 11.031929016113281, 9.928455352783203, 7.118981838226318, 6.476008892059326, 7.076038360595703, 6.615029335021973, 0.15428635478019714, 0.11046282947063446, 0.1100374162197113, 0.06691695004701614, 0.06688622385263443, 0.06685562431812286, 0.06678727269172668, 0.06678098440170288, 0.06677544116973877, 0.06675200164318085, 0.06674430519342422, 0.06670015305280685, 0.06668727844953537, 0.06668617576360703, 0.0666736587882042, 0.06666896492242813, 0.06665590405464172, 0.06663231551647186, 0.06663140654563904, 0.06660478562116623, 0.06659790873527527, 0.06659447401762009, 0.06655507534742355, 0.06655233353376389, 0.06652891635894775, 0.06651072949171066, 0.09216389060020447, 0.10367097705602646, 0.06655742973089218, 0.0664483830332756, 0.20051901042461395, 0.25318440794944763, 0.1273580640554428, 0.09013748914003372, 0.08547601103782654], \"Total\": [14.0, 25.0, 62.0, 38.0, 30.0, 20.0, 43.0, 7.0, 25.0, 39.0, 157.0, 62.0, 26.0, 18.0, 98.0, 29.0, 39.0, 10.0, 10.0, 34.0, 19.0, 15.0, 11.0, 24.0, 25.0, 37.0, 17.0, 12.0, 18.0, 8.0, 15.838850021362305, 18.299325942993164, 13.016045570373535, 7.324291229248047, 26.739904403686523, 10.15366268157959, 5.91353178024292, 14.24931526184082, 7.968239784240723, 5.196817874908447, 10.688131332397461, 5.190134525299072, 25.256793975830078, 4.489007472991943, 4.488070964813232, 4.488025665283203, 4.486218452453613, 4.48569393157959, 4.482660293579102, 4.480616092681885, 4.479922771453857, 6.52204704284668, 8.535358428955078, 5.82665491104126, 10.471461296081543, 3.7755870819091797, 3.7753806114196777, 7.932741165161133, 3.7745554447174072, 3.774531602859497, 25.62371826171875, 11.706210136413574, 10.51663875579834, 28.11704444885254, 25.906421661376953, 20.05545997619629, 13.236540794372559, 76.16293334960938, 26.73283576965332, 17.34574317932129, 33.41256332397461, 16.378719329833984, 39.53999328613281, 17.52173614501953, 48.99689483642578, 27.387752532958984, 98.84280395507812, 157.1657257080078, 26.174631118774414, 27.72623062133789, 70.14437866210938, 48.93699645996094, 78.02156829833984, 27.99219512939453, 34.23284149169922, 62.21670913696289, 36.35917663574219, 38.527671813964844, 62.66270065307617, 32.50314712524414, 36.088035583496094, 41.77280044555664, 34.646697998046875, 35.75081253051758, 25.545665740966797, 20.68320655822754, 10.501916885375977, 10.499239921569824, 8.459043502807617, 11.899317741394043, 7.091699600219727, 6.410136699676514, 6.410829067230225, 12.51053237915039, 9.17127799987793, 5.728219509124756, 5.729671478271484, 5.727394104003906, 9.742430686950684, 5.88259220123291, 17.451366424560547, 7.721968650817871, 5.045414447784424, 5.04600715637207, 5.046475410461426, 5.047309398651123, 5.046818256378174, 5.047055244445801, 5.047680854797363, 5.047295570373535, 5.046953201293945, 5.045506000518799, 7.024878978729248, 4.363205432891846, 29.586523056030273, 38.044944763183594, 14.661365509033203, 15.844714164733887, 15.576533317565918, 26.59530258178711, 12.247495651245117, 12.604681015014648, 14.00593090057373, 7.019892692565918, 14.402099609375, 20.93938636779785, 11.9168701171875, 51.77818298339844, 15.445825576782227, 30.953144073486328, 157.1657257080078, 28.762542724609375, 48.99689483642578, 78.02156829833984, 36.088035583496094, 30.587425231933594, 70.14437866210938, 41.77280044555664, 34.646697998046875, 98.84280395507812, 76.16293334960938, 35.75081253051758, 37.65874099731445, 22.014928817749023, 48.93699645996094, 10.428627014160156, 10.437475204467773, 8.543679237365723, 7.915760040283203, 7.968848705291748, 4.775919437408447, 11.075509071350098, 6.748732089996338, 4.147152423858643, 4.14756965637207, 4.147759437561035, 4.149928569793701, 8.05424976348877, 9.768778800964355, 12.646113395690918, 3.5197882652282715, 3.519550085067749, 3.5200355052948, 3.5194694995880127, 3.519794464111328, 3.5192689895629883, 3.5195047855377197, 6.760053634643555, 6.767195224761963, 18.303281784057617, 3.5310564041137695, 7.867039680480957, 4.8296589851379395, 4.859508991241455, 4.133836269378662, 8.114031791687012, 15.965198516845703, 25.725543975830078, 62.21670913696289, 37.65874099731445, 10.856571197509766, 12.431159019470215, 34.23284149169922, 15.69006633758545, 8.845839500427246, 42.38654708862305, 25.888891220092773, 48.93699645996094, 157.1657257080078, 26.957319259643555, 28.779361724853516, 78.02156829833984, 39.53999328613281, 19.984710693359375, 62.66270065307617, 98.84280395507812, 70.14437866210938, 30.59654426574707, 30.79345703125, 29.86996078491211, 39.28261947631836, 19.819881439208984, 76.16293334960938, 41.77280044555664, 51.77818298339844, 26.047117233276367, 32.50314712524414, 5.30565881729126, 7.843272686004639, 4.08255672454834, 4.082574367523193, 6.550220489501953, 4.083340644836426, 4.08417272567749, 9.8626708984375, 5.380624294281006, 3.470438241958618, 3.4702394008636475, 3.4706053733825684, 3.47114896774292, 3.471559762954712, 3.4715757369995117, 4.766678333282471, 5.412146091461182, 4.7094221115112305, 11.265357971191406, 6.054492473602295, 4.787593364715576, 6.056399345397949, 4.713433742523193, 4.1590657234191895, 4.159222602844238, 8.726265907287598, 2.858750820159912, 2.859415054321289, 2.858855962753296, 2.8590898513793945, 43.10355758666992, 30.79345703125, 39.28261947631836, 15.225769996643066, 19.819881439208984, 24.315526962280273, 25.689205169677734, 16.528818130493164, 62.66270065307617, 98.84280395507812, 17.21281623840332, 157.1657257080078, 24.6815128326416, 38.527671813964844, 14.770153999328613, 17.21006202697754, 76.16293334960938, 51.77818298339844, 17.437061309814453, 15.998125076293945, 31.093019485473633, 35.75081253051758, 62.21670913696289, 25.862945556640625, 70.14437866210938, 78.02156829833984, 28.779361724853516, 22.050273895263672, 36.35917663574219, 26.59530258178711, 1.9245549440383911, 1.8529431819915771, 1.8586905002593994, 1.777181625366211, 1.7775657176971436, 1.7779690027236938, 1.7788673639297485, 1.7789645195007324, 1.7790143489837646, 1.7793338298797607, 1.7793967723846436, 1.7800270318984985, 1.7801843881607056, 1.780195713043213, 1.7803550958633423, 1.7804367542266846, 1.7806140184402466, 1.7809479236602783, 1.7809491157531738, 1.7812999486923218, 1.781356930732727, 1.7814034223556519, 1.7819427251815796, 1.781975507736206, 1.7822719812393188, 1.7824797630310059, 2.829641580581665, 3.251108169555664, 2.4643564224243164, 2.465728759765625, 7.894803047180176, 14.257366180419922, 25.906421661376953, 7.544740676879883, 11.02585506439209], \"Category\": [\"Default\", \"Default\", \"Default\", \"Default\", \"Default\", \"Default\", \"Default\", \"Default\", \"Default\", \"Default\", \"Default\", \"Default\", \"Default\", \"Default\", \"Default\", \"Default\", \"Default\", \"Default\", \"Default\", \"Default\", \"Default\", \"Default\", \"Default\", \"Default\", \"Default\", \"Default\", \"Default\", \"Default\", \"Default\", \"Default\", \"Topic1\", \"Topic1\", \"Topic1\", \"Topic1\", \"Topic1\", \"Topic1\", \"Topic1\", \"Topic1\", \"Topic1\", \"Topic1\", \"Topic1\", \"Topic1\", \"Topic1\", \"Topic1\", \"Topic1\", \"Topic1\", \"Topic1\", \"Topic1\", \"Topic1\", \"Topic1\", \"Topic1\", \"Topic1\", \"Topic1\", \"Topic1\", \"Topic1\", \"Topic1\", \"Topic1\", \"Topic1\", \"Topic1\", \"Topic1\", \"Topic1\", \"Topic1\", \"Topic1\", \"Topic1\", \"Topic1\", \"Topic1\", \"Topic1\", \"Topic1\", \"Topic1\", \"Topic1\", \"Topic1\", \"Topic1\", \"Topic1\", \"Topic1\", \"Topic1\", \"Topic1\", \"Topic1\", \"Topic1\", \"Topic1\", \"Topic1\", \"Topic1\", \"Topic1\", \"Topic1\", \"Topic1\", \"Topic1\", \"Topic1\", \"Topic1\", \"Topic1\", \"Topic1\", \"Topic1\", \"Topic1\", \"Topic1\", \"Topic1\", \"Topic1\", \"Topic2\", \"Topic2\", \"Topic2\", \"Topic2\", \"Topic2\", \"Topic2\", \"Topic2\", \"Topic2\", \"Topic2\", \"Topic2\", \"Topic2\", \"Topic2\", \"Topic2\", \"Topic2\", \"Topic2\", \"Topic2\", \"Topic2\", \"Topic2\", \"Topic2\", \"Topic2\", \"Topic2\", \"Topic2\", \"Topic2\", \"Topic2\", \"Topic2\", \"Topic2\", \"Topic2\", \"Topic2\", \"Topic2\", \"Topic2\", \"Topic2\", \"Topic2\", \"Topic2\", \"Topic2\", \"Topic2\", \"Topic2\", \"Topic2\", \"Topic2\", \"Topic2\", \"Topic2\", \"Topic2\", \"Topic2\", \"Topic2\", \"Topic2\", \"Topic2\", \"Topic2\", \"Topic2\", \"Topic2\", \"Topic2\", \"Topic2\", \"Topic2\", \"Topic2\", \"Topic2\", \"Topic2\", \"Topic2\", \"Topic2\", \"Topic2\", \"Topic2\", \"Topic2\", \"Topic2\", \"Topic2\", \"Topic3\", \"Topic3\", \"Topic3\", \"Topic3\", \"Topic3\", \"Topic3\", \"Topic3\", \"Topic3\", \"Topic3\", \"Topic3\", \"Topic3\", \"Topic3\", \"Topic3\", \"Topic3\", \"Topic3\", \"Topic3\", \"Topic3\", \"Topic3\", \"Topic3\", \"Topic3\", \"Topic3\", \"Topic3\", \"Topic3\", \"Topic3\", \"Topic3\", \"Topic3\", \"Topic3\", \"Topic3\", \"Topic3\", \"Topic3\", \"Topic3\", \"Topic3\", \"Topic3\", \"Topic3\", \"Topic3\", \"Topic3\", \"Topic3\", \"Topic3\", \"Topic3\", \"Topic3\", \"Topic3\", \"Topic3\", \"Topic3\", \"Topic3\", \"Topic3\", \"Topic3\", \"Topic3\", \"Topic3\", \"Topic3\", \"Topic3\", \"Topic3\", \"Topic3\", \"Topic3\", \"Topic3\", \"Topic3\", \"Topic3\", \"Topic3\", \"Topic3\", \"Topic3\", \"Topic3\", \"Topic3\", \"Topic3\", \"Topic4\", \"Topic4\", \"Topic4\", \"Topic4\", \"Topic4\", \"Topic4\", \"Topic4\", \"Topic4\", \"Topic4\", \"Topic4\", \"Topic4\", \"Topic4\", \"Topic4\", \"Topic4\", \"Topic4\", \"Topic4\", \"Topic4\", \"Topic4\", \"Topic4\", \"Topic4\", \"Topic4\", \"Topic4\", \"Topic4\", \"Topic4\", \"Topic4\", \"Topic4\", \"Topic4\", \"Topic4\", \"Topic4\", \"Topic4\", \"Topic4\", \"Topic4\", \"Topic4\", \"Topic4\", \"Topic4\", \"Topic4\", \"Topic4\", \"Topic4\", \"Topic4\", \"Topic4\", \"Topic4\", \"Topic4\", \"Topic4\", \"Topic4\", \"Topic4\", \"Topic4\", \"Topic4\", \"Topic4\", \"Topic4\", \"Topic4\", \"Topic4\", \"Topic4\", \"Topic4\", \"Topic4\", \"Topic4\", \"Topic4\", \"Topic4\", \"Topic4\", \"Topic4\", \"Topic4\", \"Topic5\", \"Topic5\", \"Topic5\", \"Topic5\", \"Topic5\", \"Topic5\", \"Topic5\", \"Topic5\", \"Topic5\", \"Topic5\", \"Topic5\", \"Topic5\", \"Topic5\", \"Topic5\", \"Topic5\", \"Topic5\", \"Topic5\", \"Topic5\", \"Topic5\", \"Topic5\", \"Topic5\", \"Topic5\", \"Topic5\", \"Topic5\", \"Topic5\", \"Topic5\", \"Topic5\", \"Topic5\", \"Topic5\", \"Topic5\", \"Topic5\", \"Topic5\", \"Topic5\", \"Topic5\", \"Topic5\"], \"logprob\": [30.0, 29.0, 28.0, 27.0, 26.0, 25.0, 24.0, 23.0, 22.0, 21.0, 20.0, 19.0, 18.0, 17.0, 16.0, 15.0, 14.0, 13.0, 12.0, 11.0, 10.0, 9.0, 8.0, 7.0, 6.0, 5.0, 4.0, 3.0, 2.0, 1.0, -5.50600004196167, -5.3821001052856445, -5.727099895477295, -6.34250020980835, -5.057000160217285, -6.030399799346924, -6.587800025939941, -5.728899955749512, -6.322400093078613, -6.758699893951416, -6.039400100708008, -6.7718000411987305, -5.206600189208984, -6.946599960327148, -6.947199821472168, -6.947400093078613, -6.949399948120117, -6.951300144195557, -6.956900119781494, -6.961699962615967, -6.965199947357178, -6.595399856567383, -6.360899925231934, -6.753600120544434, -6.168099880218506, -7.191199779510498, -7.191299915313721, -6.449699878692627, -7.193900108337402, -7.193900108337402, -5.292399883270264, -6.0725998878479, -6.223499774932861, -5.299699783325195, -5.423900127410889, -5.6722002029418945, -6.0391998291015625, -4.563300132751465, -5.4456000328063965, -5.817299842834473, -5.287099838256836, -5.88100004196167, -5.17609977722168, -5.867599964141846, -5.136899948120117, -5.567200183868408, -4.667900085449219, -4.35230016708374, -5.6066999435424805, -5.570300102233887, -4.973599910736084, -5.218999862670898, -4.930600166320801, -5.585299968719482, -5.469099998474121, -5.1768999099731445, -5.503200054168701, -5.485899925231934, -5.295000076293945, -5.560800075531006, -5.53249979019165, -5.501800060272217, -5.569200038909912, -5.573999881744385, -4.9253997802734375, -5.152599811553955, -5.8592000007629395, -5.860099792480469, -6.107699871063232, -5.787899971008301, -6.318600177764893, -6.439899921417236, -6.440700054168701, -5.788300037384033, -6.107600212097168, -6.580699920654297, -6.581299781799316, -6.585899829864502, -6.058300018310547, -6.5808000564575195, -5.4944000244140625, -6.317699909210205, -6.74370002746582, -6.744900226593018, -6.745200157165527, -6.745100021362305, -6.7453999519348145, -6.745500087738037, -6.74560022354126, -6.745800018310547, -6.745999813079834, -6.749800205230713, -6.439799785614014, -6.941100120544434, -5.031799793243408, -4.790999889373779, -5.788599967956543, -5.720900058746338, -5.802199840545654, -5.362800121307373, -6.016900062561035, -6.018099784851074, -5.9421000480651855, -6.490099906921387, -5.942999839782715, -5.666500091552734, -6.1057000160217285, -5.171599864959717, -5.94890022277832, -5.553500175476074, -4.596799850463867, -5.600100040435791, -5.305799961090088, -5.055600166320801, -5.50600004196167, -5.614500045776367, -5.232399940490723, -5.529399871826172, -5.632400035858154, -5.320099830627441, -5.434999942779541, -5.716800212860107, -5.779699802398682, -5.913400173187256, -5.899199962615967, -5.559899806976318, -5.573599815368652, -5.78849983215332, -5.879000186920166, -5.977399826049805, -6.516499996185303, -5.708399772644043, -6.224999904632568, -6.712100028991699, -6.712100028991699, -6.712800025939941, -6.721199989318848, -6.087500095367432, -5.919899940490723, -5.678299903869629, -6.957399845123291, -6.957399845123291, -6.957600116729736, -6.957900047302246, -6.958099842071533, -6.958399772644043, -6.95959997177124, -6.346499919891357, -6.352399826049805, -5.35890007019043, -7.015699863433838, -6.217400074005127, -6.712399959564209, -6.712500095367432, -6.900899887084961, -6.22730016708374, -5.618800163269043, -5.195199966430664, -4.413599967956543, -4.887800216674805, -5.994699954986572, -5.887199878692627, -5.065199851989746, -5.729700088500977, -6.204100131988525, -4.962699890136719, -5.3653998374938965, -4.892300128936768, -4.0335001945495605, -5.362500190734863, -5.318699836730957, -4.649199962615967, -5.131800174713135, -5.605800151824951, -4.923099994659424, -4.644199848175049, -4.8744001388549805, -5.435699939727783, -5.487299919128418, -5.508299827575684, -5.508500099182129, -5.708000183105469, -5.3572001457214355, -5.540500164031982, -5.530300140380859, -5.686699867248535, -5.686200141906738, -6.235499858856201, -5.855599880218506, -6.5954999923706055, -6.595799922943115, -6.134500026702881, -6.6072001457214355, -6.6194000244140625, -5.7382001876831055, -6.358399868011475, -6.839600086212158, -6.839900016784668, -6.8403000831604, -6.84089994430542, -6.8491997718811035, -6.849299907684326, -6.53439998626709, -6.422800064086914, -6.583700180053711, -5.718100070953369, -6.341400146484375, -6.580699920654297, -6.3471999168396, -6.636300086975098, -6.775300025939941, -6.7758002281188965, -6.045000076293945, -7.16379976272583, -7.163599967956543, -7.16379976272583, -7.163899898529053, -4.618599891662598, -4.952099800109863, -4.740600109100342, -5.631499767303467, -5.449900150299072, -5.280799865722656, -5.23960018157959, -5.627399921417236, -4.596399784088135, -4.295300006866455, -5.63100004196167, -3.9811999797821045, -5.399600028991699, -5.13730001449585, -5.805500030517578, -5.770899772644043, -4.908100128173828, -5.150899887084961, -5.7804999351501465, -5.834199905395508, -5.486000061035156, -5.473800182342529, -5.247600078582764, -5.661200046539307, -5.228099822998047, -5.333499908447266, -5.666200160980225, -5.760799884796143, -5.6722002029418945, -5.73960018157959, -6.082399845123291, -6.416500091552734, -6.420400142669678, -6.917799949645996, -6.9182000160217285, -6.918700218200684, -6.9197001457214355, -6.9197998046875, -6.919899940490723, -6.920199871063232, -6.920400142669678, -6.921000003814697, -6.921199798583984, -6.921199798583984, -6.92140007019043, -6.921500205993652, -6.9217000007629395, -6.921999931335449, -6.921999931335449, -6.922399997711182, -6.922599792480469, -6.922599792480469, -6.9232001304626465, -6.9232001304626465, -6.923600196838379, -6.923900127410889, -6.597700119018555, -6.480000019073486, -6.9232001304626465, -6.924799919128418, -5.820300102233887, -5.587100028991699, -6.274199962615967, -6.619900226593018, -6.672999858856201], \"loglift\": [30.0, 29.0, 28.0, 27.0, 26.0, 25.0, 24.0, 23.0, 22.0, 21.0, 20.0, 19.0, 18.0, 17.0, 16.0, 15.0, 14.0, 13.0, 12.0, 11.0, 10.0, 9.0, 8.0, 7.0, 6.0, 5.0, 4.0, 3.0, 2.0, 1.0, 1.051300048828125, 1.0306999683380127, 1.0264999866485596, 0.9860000014305115, 0.9765999913215637, 0.9714999794960022, 0.9546999931335449, 0.9340999722480774, 0.9218000173568726, 0.9129999876022339, 0.9111999869346619, 0.9010999798774719, 0.8841000199317932, 0.8715000152587891, 0.8712000250816345, 0.8708999752998352, 0.8693000078201294, 0.8675000071525574, 0.8626999855041504, 0.8582000136375427, 0.8549000024795532, 0.8492000102996826, 0.8145999908447266, 0.8036999702453613, 0.8029999732971191, 0.800000011920929, 0.7998999953269958, 0.7990000247955322, 0.7975999712944031, 0.7975000143051147, 0.7839000225067139, 0.7871000170707703, 0.7433000206947327, 0.6837000250816345, 0.6413000226020813, 0.6491000056266785, 0.6974999904632568, 0.4235999882221222, 0.5881999731063843, 0.6491000056266785, 0.5236999988555908, 0.642799973487854, 0.46630001068115234, 0.588699996471405, 0.29109999537467957, 0.4424000084400177, 0.05829999968409538, -0.08980000019073486, 0.448199987411499, 0.4271000027656555, 0.09549999982118607, 0.2101999968290329, 0.03220000118017197, 0.4025000035762787, 0.3174000084400177, 0.012199999764561653, 0.22300000488758087, 0.18250000476837158, -0.11299999803304672, 0.2775999903678894, 0.2012999951839447, 0.08560000360012054, 0.2053000032901764, 0.16910000145435333, 1.1539000272750854, 1.1377999782562256, 1.1089999675750732, 1.108299970626831, 1.076799988746643, 1.055400013923645, 1.042199969291687, 1.0219999551773071, 1.0210000276565552, 1.0048999786376953, 0.9959999918937683, 0.9937000274658203, 0.9926999807357788, 0.9886000156402588, 0.9848999977111816, 0.9668999910354614, 0.9659000039100647, 0.9578999876976013, 0.9575999975204468, 0.9562000036239624, 0.9557999968528748, 0.9557999968528748, 0.9555000066757202, 0.9555000066757202, 0.9552000164985657, 0.9550999999046326, 0.9549999833106995, 0.9513999819755554, 0.930400013923645, 0.9054999947547913, 0.900600016117096, 0.8899999856948853, 0.8460000157356262, 0.8360000252723694, 0.7717999815940857, 0.6761999726295471, 0.7975000143051147, 0.7674999833106995, 0.7382000088691711, 0.8809000253677368, 0.7093999981880188, 0.6115999817848206, 0.7361000180244446, 0.2011999934911728, 0.6334999799728394, 0.33379998803138733, -0.3343999981880188, 0.36059999465942383, 0.12219999730587006, -0.09279999881982803, 0.22779999673366547, 0.28459998965263367, -0.16329999268054962, 0.05810000002384186, 0.14219999313354492, -0.5939000248908997, -0.448199987411499, 0.026399999856948853, -0.08860000222921371, 0.31459999084472656, -0.4699999988079071, 1.4153000116348267, 1.4006999731063843, 1.3860000371932983, 1.371899962425232, 1.266800045967102, 1.2396999597549438, 1.2065999507904053, 1.1854000091552734, 1.1852999925613403, 1.1850999593734741, 1.1842999458312988, 1.1755000352859497, 1.1461000442504883, 1.1207000017166138, 1.1039999723434448, 1.1039999723434448, 1.1039999723434448, 1.103700041770935, 1.1035000085830688, 1.1031999588012695, 1.1030000448226929, 1.1018999814987183, 1.0621999502182007, 1.055299997329712, 1.0537999868392944, 1.0424000024795532, 1.0397000312805176, 1.0325000286102295, 1.0262999534606934, 0.9995999932289124, 0.9987999796867371, 0.9304999709129333, 0.8769999742507935, 0.7754999995231628, 0.8033999800682068, 0.9402999877929688, 0.9122999906539917, 0.7213000059127808, 0.8370000123977661, 0.935699999332428, 0.6101999878883362, 0.7006000280380249, 0.536899983882904, 0.2289000004529953, 0.6629999876022339, 0.6413999795913696, 0.31349998712539673, 0.5105999708175659, 0.718999981880188, 0.2587999999523163, 0.0820000022649765, 0.19480000436306, 0.46320000290870667, 0.4050999879837036, 0.4146000146865845, 0.1404999941587448, 0.625, -0.37040001153945923, 0.04699999839067459, -0.1574999988079071, 0.373199999332428, 0.15219999849796295, 1.4155000448226929, 1.4043999910354614, 1.3174999952316284, 1.317199945449829, 1.3056999444961548, 1.3056000471115112, 1.2932000160217285, 1.292799949645996, 1.278499960899353, 1.23580002784729, 1.2355999946594238, 1.2351000308990479, 1.2343000173568726, 1.2259999513626099, 1.2258000373840332, 1.2237000465393066, 1.208299994468689, 1.1864999532699585, 1.179900050163269, 1.1776000261306763, 1.1729999780654907, 1.1713999509811401, 1.1330000162124634, 1.1190999746322632, 1.1186000108718872, 1.1083999872207642, 1.1054999828338623, 1.1054999828338623, 1.1054999828338623, 1.1053999662399292, 0.9375, 0.9402999877929688, 0.9083999991416931, 0.9652000069618225, 0.8831999897956848, 0.8478999733924866, 0.8341000080108643, 0.8871999979019165, 0.5856000185012817, 0.4309000074863434, 0.8429999947547913, 0.28130000829696655, 0.7141000032424927, 0.5310999751091003, 0.8216999769210815, 0.7032999992370605, 0.0786999985575676, 0.22190000116825104, 0.6807000041007996, 0.7129999995231628, 0.396699994802475, 0.2694000005722046, -0.05849999934434891, 0.4056999981403351, -0.1589999943971634, -0.3707999885082245, 0.2939000129699707, 0.46560001373291016, 0.054099999368190765, 0.2994000017642975, 2.5826001167297363, 2.286400079727173, 2.2795000076293945, 1.8269000053405762, 1.826300024986267, 1.825600028038025, 1.8240000009536743, 1.8238999843597412, 1.823799967765808, 1.8233000040054321, 1.823099970817566, 1.822100043296814, 1.8217999935150146, 1.8217999935150146, 1.8214999437332153, 1.8214000463485718, 1.8210999965667725, 1.8206000328063965, 1.8205000162124634, 1.8199000358581543, 1.8198000192642212, 1.819700002670288, 1.8187999725341797, 1.8187999725341797, 1.8183000087738037, 1.8178999423980713, 1.6819000244140625, 1.6606999635696411, 1.4946000576019287, 1.492400050163269, 1.4332000017166138, 1.0753999948501587, -0.20900000631809235, 0.6790000200271606, 0.24650000035762787]}, \"token.table\": {\"Topic\": [1, 2, 3, 4, 1, 2, 4, 4, 2, 1, 2, 3, 1, 1, 2, 3, 4, 1, 2, 4, 1, 2, 3, 4, 3, 4, 1, 2, 3, 4, 2, 3, 1, 1, 2, 1, 2, 3, 4, 1, 1, 2, 3, 4, 1, 2, 3, 4, 1, 2, 3, 4, 1, 2, 3, 4, 3, 1, 3, 1, 1, 2, 3, 2, 3, 4, 1, 3, 1, 2, 3, 1, 3, 1, 2, 3, 4, 1, 1, 2, 3, 4, 3, 4, 1, 2, 3, 4, 1, 2, 3, 4, 1, 2, 3, 4, 1, 4, 2, 1, 1, 2, 3, 4, 3, 1, 2, 4, 2, 4, 1, 2, 3, 4, 2, 3, 2, 2, 3, 1, 1, 2, 4, 1, 2, 3, 4, 1, 2, 3, 4, 1, 2, 3, 1, 1, 2, 3, 4, 1, 4, 1, 3, 3, 4, 1, 2, 3, 1, 2, 3, 4, 2, 3, 2, 1, 2, 3, 4, 1, 1, 2, 3, 4, 2, 1, 2, 3, 4, 4, 1, 3, 1, 2, 3, 4, 1, 2, 1, 2, 3, 4, 1, 2, 3, 1, 2, 3, 4, 2, 1, 2, 3, 1, 2, 3, 4, 1, 2, 3, 4, 1, 1, 2, 3, 4, 1, 2, 3, 4, 1, 2, 2, 1, 2, 3, 4, 4, 1, 2, 3, 1, 1, 2, 3, 4, 3, 4, 1, 2, 3, 2, 1, 1, 1, 2, 3, 4, 1, 3, 4, 3, 2, 3, 2, 4, 1, 1, 2, 4, 2, 3, 1, 4, 1, 2, 3, 4, 1, 2, 3, 4, 1, 2, 3, 4, 1, 1, 2, 3, 4, 3, 1, 2, 3, 4, 1, 2, 3, 4, 4, 1, 1, 2, 3, 4, 1, 2, 3, 4, 4, 1, 2, 3, 4, 1, 2, 1, 1, 4, 4, 1, 2, 3, 4, 1, 2, 3, 3, 1, 2, 3, 4, 1, 1, 2, 4, 1, 2, 3, 4, 1, 1, 2, 3, 4, 3, 1, 2, 4, 1, 2, 3, 2, 3, 3, 2, 3, 1, 2, 1, 4, 4, 2, 3, 1, 2, 3, 4, 4, 3, 1, 1, 2, 3, 4, 1, 1, 2, 3, 4, 4, 1, 2, 3, 4, 1, 3, 2, 1, 1, 2, 3, 4, 1, 2, 3, 4, 1, 2, 3, 1, 2, 3, 4, 1, 1, 1, 1, 3, 1, 4, 1, 2, 3, 1, 2, 3, 1, 2, 3, 4, 1, 1, 4, 1, 3, 4, 2, 1, 3, 2, 2, 1, 2, 3, 4, 1, 2, 3, 4, 2, 1, 4, 1, 2, 3, 4, 1, 2, 4, 1, 2, 3, 4, 1, 2, 3, 4, 1, 4, 1, 2, 3, 4, 4, 4, 1, 1, 1, 2, 3, 4, 1, 1, 2, 3, 1, 4, 1, 2, 3, 4, 1, 2, 3, 4, 1, 1, 3, 4, 1, 2, 3, 4, 3, 3, 3, 1, 2, 3, 4, 1, 3, 4, 1, 2, 3, 4, 2, 2, 1, 2, 3, 4, 1, 1, 2, 3, 4, 1, 2, 3, 4, 1, 1, 1, 2, 2, 1, 1, 1, 2, 3, 2, 1, 4, 1, 2, 2, 3, 4, 1, 4, 2, 3, 1, 2, 3, 4, 4, 1, 2, 3, 4, 1, 2, 3, 4, 1, 1, 2, 3, 4, 1, 2, 3, 4, 1, 2, 3, 4, 1, 2, 3, 4, 1, 4, 1, 2, 3, 4, 1], \"Freq\": [0.405785471200943, 0.405785471200943, 0.1526666134595871, 0.6106664538383484, 0.6656119227409363, 0.09508741647005081, 0.28526225686073303, 0.7346925735473633, 0.8572049140930176, 0.6302991509437561, 0.12605983018875122, 0.12605983018875122, 0.5616599321365356, 0.40815818309783936, 0.04535090923309326, 0.2267545461654663, 0.27210545539855957, 0.2380068153142929, 0.6346848607063293, 0.07933560758829117, 0.06419913470745087, 0.641991376876831, 0.06419913470745087, 0.1925974190235138, 0.4838120937347412, 0.2419060468673706, 0.363628089427948, 0.30768531560897827, 0.08391417562961578, 0.25174254179000854, 0.2955434024333954, 0.5910868048667908, 0.5613877773284912, 0.8451107740402222, 0.0768282487988472, 0.3999612629413605, 0.2153637558221817, 0.24613001942634583, 0.12306500971317291, 0.6687928438186646, 0.2783992886543274, 0.11599970608949661, 0.11599970608949661, 0.46399882435798645, 0.5617395639419556, 0.5179392695426941, 0.3237120509147644, 0.06474240869283676, 0.08044302463531494, 0.16088604927062988, 0.5631011724472046, 0.24132905900478363, 0.2799592614173889, 0.2099694460630417, 0.26723384857177734, 0.2417829930782318, 0.7229040265083313, 0.37999680638313293, 0.5066624283790588, 0.6696544289588928, 0.5707197189331055, 0.28535985946655273, 0.17121590673923492, 0.10236693918704987, 0.6142016649246216, 0.20473387837409973, 0.7529894113540649, 0.1254982352256775, 0.35340166091918945, 0.7925014495849609, 0.5681760907173157, 0.31630271673202515, 0.6326054334640503, 0.3678198754787445, 0.18390993773937225, 0.3678198754787445, 0.08173774927854538, 0.5611749291419983, 0.18547838926315308, 0.22257405519485474, 0.4080524444580078, 0.18547838926315308, 0.63556307554245, 0.2542252242565155, 0.25845515727996826, 0.4199896454811096, 0.16153447329998016, 0.1938413679599762, 0.3290078938007355, 0.041125986725091934, 0.20562992990016937, 0.41125985980033875, 0.5611076951026917, 0.18703590333461761, 0.22444307804107666, 0.037407178431749344, 0.20278482139110565, 0.7097468972206116, 0.7927991151809692, 0.7706929445266724, 0.23434914648532867, 0.2678276002407074, 0.33478450775146484, 0.16739225387573242, 0.7233879566192627, 0.07993265241384506, 0.799326479434967, 0.07993265241384506, 0.8460595011711121, 0.7348304390907288, 0.37504395842552185, 0.06250732392072678, 0.18752197921276093, 0.37504395842552185, 0.20705395936965942, 0.6211618781089783, 0.6982972621917725, 0.12548863887786865, 0.7529318332672119, 0.8455184102058411, 0.1651146113872528, 0.1651146113872528, 0.6604584455490112, 0.4966641068458557, 0.30563944578170776, 0.07640986144542694, 0.15281972289085388, 0.38593870401382446, 0.19296935200691223, 0.160807803273201, 0.28945404291152954, 0.3075874149799347, 0.3075874149799347, 0.3075874149799347, 0.5380131602287292, 0.12746918201446533, 0.12746918201446533, 0.5098767280578613, 0.25493836402893066, 0.7484937906265259, 0.18712344765663147, 0.5441755056381226, 0.36278364062309265, 0.21234028041362762, 0.6370208263397217, 0.7029581665992737, 0.11715969443321228, 0.11715969443321228, 0.5765103101730347, 0.11530206352472305, 0.2306041270494461, 0.057651031762361526, 0.8211503028869629, 0.10264378786087036, 0.7924431562423706, 0.14792782068252563, 0.14792782068252563, 0.5917112827301025, 0.14792782068252563, 0.6695507764816284, 0.3440946638584137, 0.17204733192920685, 0.11469822376966476, 0.3440946638584137, 0.7927059531211853, 0.15273930132389069, 0.15273930132389069, 0.2545655071735382, 0.45821791887283325, 0.5761072635650635, 0.8743491172790527, 0.10929363965988159, 0.3093228340148926, 0.23199214041233063, 0.19332678616046906, 0.270657479763031, 0.1699930876493454, 0.6799723505973816, 0.668445348739624, 0.09028930217027664, 0.7223144173622131, 0.18057860434055328, 0.28559330105781555, 0.6425849199295044, 0.07139832526445389, 0.5087906718254089, 0.1795731782913208, 0.1795731782913208, 0.14964431524276733, 0.6983978748321533, 0.17190630733966827, 0.7449273467063904, 0.7233151793479919, 0.46441516280174255, 0.2857939600944519, 0.14289698004722595, 0.10717272758483887, 0.47267088294029236, 0.18381644785404205, 0.14442721009254456, 0.1969461888074875, 0.7948005795478821, 0.3002295196056366, 0.25019127130508423, 0.4503442645072937, 0.05003825202584267, 0.27210310101509094, 0.11661560833454132, 0.5053343176841736, 0.11661560833454132, 0.40555959939956665, 0.40555959939956665, 0.856986403465271, 0.18150117993354797, 0.24200157821178436, 0.12100078910589218, 0.42350274324417114, 0.5762960910797119, 0.33914247155189514, 0.11304749548435211, 0.5652374625205994, 0.561735987663269, 0.2712937593460083, 0.11170919984579086, 0.2712937593460083, 0.335127592086792, 0.21215955913066864, 0.6364786624908447, 0.1232432946562767, 0.2464865893125534, 0.6162164807319641, 0.7925785779953003, 0.56108158826828, 0.7946218848228455, 0.37521612644195557, 0.34635335206985474, 0.11545111984014511, 0.17317667603492737, 0.4739287197589874, 0.1354082077741623, 0.4062246084213257, 0.7232820391654968, 0.6875678896903992, 0.5682998299598694, 0.7117560505867004, 0.1423512101173401, 0.5626887083053589, 0.1893375962972641, 0.6942378282546997, 0.1262250542640686, 0.9186196327209473, 0.048348404467105865, 0.7666304707527161, 0.1533260941505432, 0.7522728443145752, 0.07918661087751389, 0.15837322175502777, 0.03959330543875694, 0.7719669342041016, 0.0701788142323494, 0.0701788142323494, 0.0701788142323494, 0.6046154499053955, 0.10669684410095215, 0.2133936882019043, 0.10669684410095215, 0.5610162019729614, 0.19484658539295197, 0.03247443214058876, 0.324744313955307, 0.4871164560317993, 0.8193191289901733, 0.3879401981830597, 0.3602301776409149, 0.19397009909152985, 0.055420029908418655, 0.14327067136764526, 0.5253258347511292, 0.2865413427352905, 0.04775689169764519, 0.6995233297348022, 0.562439501285553, 0.30538418889045715, 0.048218559473752975, 0.46611273288726807, 0.1768013834953308, 0.2831086814403534, 0.1887391358613968, 0.40107065439224243, 0.1415543407201767, 0.6995805501937866, 0.19313302636146545, 0.2703862488269806, 0.4248926639556885, 0.07725321501493454, 0.7878929972648621, 0.09848662465810776, 0.7945784330368042, 0.2088732123374939, 0.6266196370124817, 0.5762683153152466, 0.16206462681293488, 0.12154846638441086, 0.32412925362586975, 0.364645391702652, 0.6684836149215698, 0.19099530577659607, 0.09549765288829803, 0.8630090951919556, 0.2505449652671814, 0.18790872395038605, 0.5637261271476746, 0.06263624131679535, 0.6684386134147644, 0.20830295979976654, 0.6249088644981384, 0.20830295979976654, 0.4081891179084778, 0.32655131816864014, 0.14286619424819946, 0.12245673686265945, 0.6687146425247192, 0.3421514332294464, 0.2423572689294815, 0.2566135823726654, 0.1568194031715393, 0.568215012550354, 0.25174394249916077, 0.5874025821685791, 0.08391465246677399, 0.3684404492378235, 0.09211011230945587, 0.5526607036590576, 0.7122616171836853, 0.14245231449604034, 0.5682544708251953, 0.2832013666629791, 0.5664027333259583, 0.08403842896223068, 0.840384304523468, 0.3550708293914795, 0.6213739514350891, 0.7345429062843323, 0.7770039439201355, 0.12950065732002258, 0.23175784945487976, 0.34763675928115845, 0.17381837964057922, 0.23175784945487976, 0.5763291120529175, 0.8375350832939148, 0.8191918730735779, 0.4805261194705963, 0.025290848687291145, 0.35407188534736633, 0.12645424902439117, 0.5620080828666687, 0.5611134767532349, 0.14027836918830872, 0.21041753888130188, 0.07013918459415436, 0.5761780738830566, 0.5301706194877625, 0.1325426548719406, 0.2650853097438812, 0.1325426548719406, 0.5196006298065186, 0.8843117952346802, 0.8275167346000671, 0.6692454218864441, 0.6043875217437744, 0.0755484402179718, 0.0755484402179718, 0.2266453206539154, 0.10927002131938934, 0.1639050394296646, 0.6009851098060608, 0.10927002131938934, 0.8839025497436523, 0.06313589960336685, 0.06313589960336685, 0.4688700735569, 0.1082007884979248, 0.2524684965610504, 0.1803346425294876, 0.5616856813430786, 0.561498761177063, 0.5617892146110535, 0.6865002512931824, 0.1716250628232956, 0.24043861031532288, 0.48087722063064575, 0.12415805459022522, 0.12415805459022522, 0.6207903027534485, 0.14817598462104797, 0.14817598462104797, 0.7408798933029175, 0.40896400809288025, 0.08763514459133148, 0.4381757080554962, 0.05842342972755432, 0.5396819710731506, 0.12749779224395752, 0.7649868130683899, 0.6833979487419128, 0.1708494871854782, 0.1708494871854782, 0.7799303531646729, 0.20578210055828094, 0.6173463463783264, 0.7927846908569336, 0.6981202960014343, 0.29048123955726624, 0.17428873479366302, 0.11619248986244202, 0.40667372941970825, 0.3633897602558136, 0.4088135063648224, 0.1362711638212204, 0.0908474400639534, 0.7925413250923157, 0.2097896933555603, 0.6293690800666809, 0.3486332595348358, 0.11621108651161194, 0.1743166297674179, 0.3486332595348358, 0.16516661643981934, 0.16516661643981934, 0.6606664657592773, 0.41720929741859436, 0.41720929741859436, 0.06953488290309906, 0.10430232435464859, 0.47466471791267395, 0.25558871030807495, 0.18256334960460663, 0.1095380112528801, 0.24042955040931702, 0.48085910081863403, 0.6634477972984314, 0.07805268466472626, 0.15610536932945251, 0.11707902699708939, 0.6996062994003296, 0.7348336577415466, 0.5625671148300171, 0.794795572757721, 0.2627124786376953, 0.19703437387943268, 0.06567811965942383, 0.4597468674182892, 0.5621554851531982, 0.5790070295333862, 0.27020326256752014, 0.11580140143632889, 0.5613698363304138, 0.7539120316505432, 0.037600625306367874, 0.5640093684196472, 0.1504025012254715, 0.2632043659687042, 0.32693174481391907, 0.39231806993484497, 0.16346587240695953, 0.09807951748371124, 0.6682991981506348, 0.8227404356002808, 0.07479458302259445, 0.07479458302259445, 0.32374638319015503, 0.16187319159507751, 0.23269270360469818, 0.28327807784080505, 0.5682617425918579, 0.5682674646377563, 0.5682160258293152, 0.3268342912197113, 0.13073371350765228, 0.3268342912197113, 0.19610057771205902, 0.6105483174324036, 0.12210966646671295, 0.2442193329334259, 0.18587982654571533, 0.265542596578598, 0.4779766798019409, 0.053108520805835724, 0.7800145745277405, 0.7925573587417603, 0.363375186920166, 0.181687593460083, 0.12977685034275055, 0.31146445870399475, 0.5614983439445496, 0.38504722714424133, 0.24753035604953766, 0.19252361357212067, 0.19252361357212067, 0.20848272740840912, 0.13898849487304688, 0.41696545481681824, 0.24322985112667084, 0.5611852407455444, 0.5619882345199585, 0.039145585149526596, 0.9394940137863159, 0.7926324009895325, 0.7697017788887024, 0.5621247291564941, 0.2046194076538086, 0.6820647120475769, 0.06820647418498993, 0.7925035953521729, 0.343789666891098, 0.5729827880859375, 0.10903605818748474, 0.7632523775100708, 0.653194785118103, 0.16329869627952576, 0.16329869627952576, 0.1858520358800888, 0.7434081435203552, 0.09580861032009125, 0.8622775077819824, 0.5983408093452454, 0.0997234657406807, 0.24930866062641144, 0.04986173287034035, 0.5761098861694336, 0.05045438930392265, 0.1009087786078453, 0.4036351144313812, 0.454089492559433, 0.2303517907857895, 0.3071357011795044, 0.3071357011795044, 0.1535678505897522, 0.5613551735877991, 0.5621089935302734, 0.709782600402832, 0.13519668579101562, 0.10139751434326172, 0.32042422890663147, 0.2691563367843628, 0.29479026794433594, 0.1281696856021881, 0.272487998008728, 0.15570741891860962, 0.11678057163953781, 0.42819541692733765, 0.26284700632095337, 0.7096869349479675, 0.026284700259566307, 0.6994437575340271, 0.18476958572864532, 0.5543087720870972, 0.33514630794525146, 0.31120729446411133, 0.2154511958360672, 0.1436341404914856, 0.5616040229797363], \"Term\": [\"achieve\", \"achieve\", \"ad\", \"ad\", \"additional\", \"additional\", \"additional\", \"advertising\", \"agreement\", \"already\", \"already\", \"already\", \"analyst\", \"announce\", \"announce\", \"announce\", \"announce\", \"approach\", \"approach\", \"approach\", \"back\", \"back\", \"back\", \"back\", \"bank\", \"bank\", \"benefit\", \"benefit\", \"benefit\", \"benefit\", \"black\", \"black\", \"brucedirector\", \"budget\", \"budget\", \"build\", \"build\", \"build\", \"build\", \"building\", \"business\", \"business\", \"business\", \"business\", \"calgary\", \"call\", \"call\", \"call\", \"campaign\", \"campaign\", \"campaign\", \"campaign\", \"canadian\", \"canadian\", \"canadian\", \"canadian\", \"candidate\", \"carbon\", \"carbon\", \"century\", \"change\", \"change\", \"change\", \"chip\", \"chip\", \"chip\", \"city\", \"city\", \"cleaner\", \"close\", \"colour\", \"com\", \"com\", \"community\", \"community\", \"community\", \"community\", \"congrat\", \"continue\", \"continue\", \"continue\", \"continue\", \"count\", \"count\", \"country\", \"country\", \"country\", \"country\", \"covid\", \"covid\", \"covid\", \"covid\", \"create\", \"create\", \"create\", \"create\", \"credit\", \"credit\", \"cultural\", \"customer\", \"day\", \"day\", \"day\", \"day\", \"dayofaction\", \"deal\", \"deal\", \"deal\", \"defend\", \"defer\", \"detail\", \"detail\", \"detail\", \"detail\", \"discrimination\", \"discrimination\", \"diversity\", \"door\", \"door\", \"double\", \"due\", \"due\", \"due\", \"economic\", \"economic\", \"economic\", \"economic\", \"economy\", \"economy\", \"economy\", \"economy\", \"effective\", \"effective\", \"effective\", \"efficient\", \"election\", \"election\", \"election\", \"election\", \"eligible\", \"eligible\", \"emission\", \"emission\", \"employee\", \"employee\", \"energy\", \"energy\", \"energy\", \"environment\", \"environment\", \"environment\", \"environment\", \"equality\", \"equality\", \"era\", \"event\", \"event\", \"event\", \"event\", \"expansion\", \"face\", \"face\", \"face\", \"face\", \"faith\", \"family\", \"family\", \"family\", \"family\", \"feature\", \"federal\", \"federal\", \"fight\", \"fight\", \"fight\", \"fight\", \"firm\", \"firm\", \"first_nation\", \"food\", \"food\", \"food\", \"friend\", \"friend\", \"friend\", \"get\", \"get\", \"get\", \"get\", \"girl\", \"global\", \"global\", \"goknockdoor\", \"good\", \"good\", \"good\", \"good\", \"government\", \"government\", \"government\", \"government\", \"grad\", \"grow\", \"grow\", \"grow\", \"grow\", \"hard\", \"hard\", \"hard\", \"hard\", \"harmful\", \"harmful\", \"hatred\", \"health\", \"health\", \"health\", \"health\", \"healthcare\", \"hear\", \"hear\", \"hear\", \"heatwave\", \"help\", \"help\", \"help\", \"help\", \"highlight\", \"highlight\", \"hope\", \"hope\", \"hope\", \"host\", \"hurricane\", \"illness\", \"include\", \"include\", \"include\", \"include\", \"income\", \"income\", \"income\", \"injustice\", \"innocent\", \"insecurity\", \"institution\", \"institution\", \"intense\", \"interest\", \"interest\", \"interest\", \"international\", \"international\", \"introduce\", \"introduce\", \"invest\", \"invest\", \"invest\", \"invest\", \"investment\", \"investment\", \"investment\", \"investment\", \"job\", \"job\", \"job\", \"job\", \"jurisdiction\", \"keep\", \"keep\", \"keep\", \"keep\", \"knock\", \"know\", \"know\", \"know\", \"know\", \"leader\", \"leader\", \"leader\", \"leader\", \"lend\", \"levy\", \"liberal\", \"liberal\", \"liberal\", \"liberal\", \"make\", \"make\", \"make\", \"make\", \"mandatory\", \"many\", \"many\", \"many\", \"many\", \"market\", \"market\", \"mental\", \"minimum\", \"minimum\", \"modest\", \"month\", \"month\", \"month\", \"month\", \"move\", \"move\", \"move\", \"movement\", \"much\", \"much\", \"much\", \"much\", \"municipality\", \"must\", \"must\", \"must\", \"need\", \"need\", \"need\", \"need\", \"net\", \"new\", \"new\", \"new\", \"new\", \"nomination\", \"offer\", \"offer\", \"offer\", \"organization\", \"organization\", \"organization\", \"other\", \"other\", \"parade\", \"parental\", \"parental\", \"partner\", \"partner\", \"payment\", \"payment\", \"payroll\", \"peace\", \"peace\", \"people\", \"people\", \"people\", \"people\", \"period\", \"phone\", \"pipeline\", \"plan\", \"plan\", \"plan\", \"plan\", \"planhttps\", \"pollution\", \"pollution\", \"pollution\", \"pollution\", \"prenon\", \"price\", \"price\", \"price\", \"price\", \"pricing\", \"pride\", \"principle\", \"profit\", \"program\", \"program\", \"program\", \"program\", \"progress\", \"progress\", \"progress\", \"progress\", \"project\", \"project\", \"project\", \"provide\", \"provide\", \"provide\", \"provide\", \"pure\", \"pureearthnow\", \"putting_price\", \"question\", \"question\", \"quick\", \"quick\", \"racism\", \"racism\", \"racism\", \"ready\", \"ready\", \"ready\", \"real\", \"real\", \"real\", \"real\", \"rebate\", \"receive\", \"receive\", \"reduce\", \"reduce\", \"reduce\", \"refuse\", \"register\", \"register\", \"relation\", \"respect\", \"response\", \"response\", \"response\", \"response\", \"right\", \"right\", \"right\", \"right\", \"rule\", \"sacrifice\", \"sacrifice\", \"safe\", \"safe\", \"safe\", \"safe\", \"safety\", \"safety\", \"safety\", \"say\", \"say\", \"say\", \"say\", \"see\", \"see\", \"see\", \"see\", \"self\", \"self\", \"senior\", \"senior\", \"senior\", \"senior\", \"sick\", \"sickness\", \"sit\", \"skill\", \"small\", \"small\", \"small\", \"small\", \"smart\", \"source\", \"source\", \"source\", \"spur\", \"stabilize\", \"stand\", \"stand\", \"stand\", \"stand\", \"step\", \"step\", \"step\", \"step\", \"stigma\", \"student\", \"student\", \"student\", \"support\", \"support\", \"support\", \"support\", \"supporter\", \"survey\", \"systemic\", \"take\", \"take\", \"take\", \"take\", \"tax\", \"tax\", \"tax\", \"team\", \"team\", \"team\", \"team\", \"terrorist\", \"tie\", \"time\", \"time\", \"time\", \"time\", \"timely\", \"today\", \"today\", \"today\", \"today\", \"together\", \"together\", \"together\", \"together\", \"tombeassociate\", \"toolkit\", \"trade\", \"trade\", \"tragedy\", \"transition\", \"turcottefederal\", \"understand\", \"understand\", \"understand\", \"unpredictable\", \"update\", \"update\", \"value\", \"value\", \"violence\", \"violence\", \"violence\", \"virus\", \"virus\", \"volunteer\", \"volunteer\", \"want\", \"want\", \"want\", \"want\", \"wealthy\", \"week\", \"week\", \"week\", \"week\", \"well\", \"well\", \"well\", \"well\", \"wildfire\", \"willing\", \"woman\", \"woman\", \"woman\", \"work\", \"work\", \"work\", \"work\", \"worker\", \"worker\", \"worker\", \"worker\", \"world\", \"world\", \"world\", \"worried\", \"worry\", \"worry\", \"year\", \"year\", \"year\", \"year\", \"yuy\"]}, \"R\": 30, \"lambda.step\": 0.01, \"plot.opts\": {\"xlab\": \"PC1\", \"ylab\": \"PC2\"}, \"topic.order\": [4, 3, 5, 2, 1]};\n",
              "\n",
              "function LDAvis_load_lib(url, callback){\n",
              "  var s = document.createElement('script');\n",
              "  s.src = url;\n",
              "  s.async = true;\n",
              "  s.onreadystatechange = s.onload = callback;\n",
              "  s.onerror = function(){console.warn(\"failed to load library \" + url);};\n",
              "  document.getElementsByTagName(\"head\")[0].appendChild(s);\n",
              "}\n",
              "\n",
              "if(typeof(LDAvis) !== \"undefined\"){\n",
              "   // already loaded: just create the visualization\n",
              "   !function(LDAvis){\n",
              "       new LDAvis(\"#\" + \"ldavis_el1011403573708862084940483373\", ldavis_el1011403573708862084940483373_data);\n",
              "   }(LDAvis);\n",
              "}else if(typeof define === \"function\" && define.amd){\n",
              "   // require.js is available: use it to load d3/LDAvis\n",
              "   require.config({paths: {d3: \"https://cdnjs.cloudflare.com/ajax/libs/d3/3.5.5/d3.min\"}});\n",
              "   require([\"d3\"], function(d3){\n",
              "      window.d3 = d3;\n",
              "      LDAvis_load_lib(\"https://cdn.rawgit.com/bmabey/pyLDAvis/files/ldavis.v1.0.0.js\", function(){\n",
              "        new LDAvis(\"#\" + \"ldavis_el1011403573708862084940483373\", ldavis_el1011403573708862084940483373_data);\n",
              "      });\n",
              "    });\n",
              "}else{\n",
              "    // require.js not available: dynamically load d3 & LDAvis\n",
              "    LDAvis_load_lib(\"https://cdnjs.cloudflare.com/ajax/libs/d3/3.5.5/d3.min.js\", function(){\n",
              "         LDAvis_load_lib(\"https://cdn.rawgit.com/bmabey/pyLDAvis/files/ldavis.v1.0.0.js\", function(){\n",
              "                 new LDAvis(\"#\" + \"ldavis_el1011403573708862084940483373\", ldavis_el1011403573708862084940483373_data);\n",
              "            })\n",
              "         });\n",
              "}\n",
              "</script>"
            ],
            "text/plain": [
              "PreparedData(topic_coordinates=              x         y  topics  cluster       Freq\n",
              "topic                                                \n",
              "3     -0.045675  0.017726       1        1  30.596266\n",
              "2      0.049027  0.055676       2        1  29.055071\n",
              "4     -0.038610  0.010657       3        1  21.305523\n",
              "1     -0.028184 -0.041739       4        1  18.437279\n",
              "0      0.063442 -0.042321       5        1   0.605867, topic_info=           Term       Freq      Total Category  logprob  loglift\n",
              "1169  pollution  14.000000  14.000000  Default  30.0000  30.0000\n",
              "1608      trade  25.000000  25.000000  Default  29.0000  29.0000\n",
              "59      liberal  62.000000  62.000000  Default  28.0000  28.0000\n",
              "1218      world  38.000000  38.000000  Default  27.0000  27.0000\n",
              "54         keep  30.000000  30.000000  Default  26.0000  26.0000\n",
              "...         ...        ...        ...      ...      ...      ...\n",
              "1069     carbon   0.200519   7.894803   Topic5  -5.8203   1.4332\n",
              "1169  pollution   0.253184  14.257366   Topic5  -5.5871   1.0754\n",
              "1813     source   0.127358  25.906422   Topic5  -6.2742  -0.2090\n",
              "1517      price   0.090137   7.544741   Topic5  -6.6199   0.6790\n",
              "1015   emission   0.085476  11.025855   Topic5  -6.6730   0.2465\n",
              "\n",
              "[312 rows x 6 columns], token_table=      Topic      Freq        Term\n",
              "term                             \n",
              "1262      1  0.405785     achieve\n",
              "1262      2  0.405785     achieve\n",
              "1238      3  0.152667          ad\n",
              "1238      4  0.610666          ad\n",
              "2         1  0.665612  additional\n",
              "...     ...       ...         ...\n",
              "540       1  0.335146        year\n",
              "540       2  0.311207        year\n",
              "540       3  0.215451        year\n",
              "540       4  0.143634        year\n",
              "2225      1  0.561604         yuy\n",
              "\n",
              "[563 rows x 3 columns], R=30, lambda_step=0.01, plot_opts={'xlab': 'PC1', 'ylab': 'PC2'}, topic_order=[4, 3, 5, 2, 1])"
            ]
          },
          "metadata": {
            "tags": []
          },
          "execution_count": 26
        }
      ]
    }
  ]
}